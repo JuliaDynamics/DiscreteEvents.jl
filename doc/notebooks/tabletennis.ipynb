{
 "cells": [
  {
   "cell_type": "markdown",
   "metadata": {},
   "source": [
    "# Table tennis simulation\n",
    "\n",
    "This example is intended to show the usage of `Sim.jl`."
   ]
  },
  {
   "cell_type": "code",
   "execution_count": 1,
   "metadata": {},
   "outputs": [],
   "source": [
    "using Sim, Printf\n",
    "import Sim.init!"
   ]
  },
  {
   "cell_type": "markdown",
   "metadata": {},
   "source": [
    "We define some datastructures for states and events and players."
   ]
  },
  {
   "cell_type": "code",
   "execution_count": 2,
   "metadata": {},
   "outputs": [],
   "source": [
    "abstract type PState end\n",
    "struct Idle <: PState end\n",
    "struct Wait <: PState end\n",
    "struct Unalert <: PState end\n",
    "\n",
    "abstract type PEvent end\n",
    "struct Start <: PEvent end\n",
    "struct Serve <: PEvent end\n",
    "struct Return <: PEvent end\n",
    "struct Miss <: PEvent end\n",
    "\n",
    "mutable struct Player\n",
    "    name::AbstractString\n",
    "    sim::Union{Number, Clock}\n",
    "    opp::Union{Number,Player}\n",
    "    state::PState\n",
    "    accuracy::Float64\n",
    "    attentiveness::Float64\n",
    "    score::Int64\n",
    "\n",
    "    Player(name, acc, att) = new(name, 0, 0, Idle(), acc, att, 0)\n",
    "end"
   ]
  },
  {
   "cell_type": "markdown",
   "metadata": {},
   "source": [
    "Then we have some physical facts to define and a function to randomize them:"
   ]
  },
  {
   "cell_type": "code",
   "execution_count": 3,
   "metadata": {},
   "outputs": [
    {
     "data": {
      "text/plain": [
       "rd (generic function with 1 method)"
      ]
     },
     "execution_count": 3,
     "metadata": {},
     "output_type": "execute_result"
    }
   ],
   "source": [
    "const dist = 3 # distance for ball to fly [m]\n",
    "const vs   = 10 # serve velocity [m/s]\n",
    "const vr   = 20 # return velocity [m/s]\n",
    "\n",
    "rd(s::Float64) = randn()*s + 1"
   ]
  },
  {
   "cell_type": "markdown",
   "metadata": {},
   "source": [
    "Next we must describe the behaviour of our players. Players are modeled as finite state machines, which have defined states and react to known events. This is done with the `step!` function."
   ]
  },
  {
   "cell_type": "code",
   "execution_count": 4,
   "metadata": {},
   "outputs": [
    {
     "data": {
      "text/plain": [
       "step!"
      ]
     },
     "execution_count": 4,
     "metadata": {},
     "output_type": "execute_result"
    }
   ],
   "source": [
    "\"initialize a player\"\n",
    "function init!(p::Player, s::Clock, opp::Player)\n",
    "    p.sim = s\n",
    "    p.opp = opp\n",
    "    if rand() ≤ p.attentiveness\n",
    "        p.state = Wait()\n",
    "    else\n",
    "        p.state = Unalert()\n",
    "    end\n",
    "end\n",
    "\n",
    "\"a player serves a ball\"\n",
    "function serve(p::Player)\n",
    "    ts = 3 + dist*rd(0.15)/(vs*rd(0.25))\n",
    "    if rand() ≤ p.accuracy\n",
    "        event!(p.sim, :(step!($(p.opp), Serve())), after, ts)\n",
    "        @printf(\"%.2f: %s serves %s\\n\", p.sim.time+ts, p.name, p.opp.name)\n",
    "    else\n",
    "        event!(p.sim, :(step!($(p.opp), Miss())), after, ts)\n",
    "        @printf(\"%.2f: %s serves and misses %s\\n\", p.sim.time+ts, p.name, p.opp.name)\n",
    "    end\n",
    "    if rand() ≥ p.attentiveness\n",
    "        p.state = Unalert()\n",
    "    end\n",
    "end\n",
    "\n",
    "\"a player returns a ball\"\n",
    "function ret(p::Player)\n",
    "    tr = dist*rd(0.15)/(vr*rd(0.25))\n",
    "    if rand() ≤ p.accuracy\n",
    "        event!(p.sim, :(step!($(p.opp), Return())), after, tr)\n",
    "        @printf(\"%.2f: %s returns %s\\n\", p.sim.time+tr, p.name, p.opp.name)\n",
    "    else\n",
    "        event!(p.sim, :(step!($(p.opp), Miss())), after, tr)\n",
    "        @printf(\"%.2f: %s returns and misses %s\\n\", p.sim.time+tr, p.name, p.opp.name)\n",
    "    end\n",
    "    if rand() ≥ p.attentiveness\n",
    "        p.state = Unalert()\n",
    "    end\n",
    "end\n",
    "\n",
    "\"default transition for players\"\n",
    "step!(p::Player, q::PState, σ::PEvent) =\n",
    "        println(\"undefined transition for $(p.name), $q, $σ\")\n",
    "\n",
    "\"player p gets a start command\"\n",
    "step!(p::Player, ::Wait, ::Start) = serve(p)\n",
    "\n",
    "\"player p is waiting and gets served or returned\"\n",
    "step!(p::Player, ::Wait, ::Union{Serve, Return}) = ret(p)\n",
    "\n",
    "\"player p is unalert and gets served or returned\"\n",
    "function step!(p::Player, ::Unalert, ::Union{Serve, Return})\n",
    "    @printf(\"%.2f: %s looses ball\\n\", p.sim.time, p.name)\n",
    "    p.opp.score += 1\n",
    "    p.state = Wait()\n",
    "    serve(p)\n",
    "end\n",
    "\n",
    "\"player p is waiting or unalert and gets missed\"\n",
    "function step!(p::Player, ::Union{Wait, Unalert}, ::Miss)\n",
    "    p.score += 1\n",
    "    p.state = Wait()\n",
    "    serve(p)\n",
    "end\n",
    "\n",
    "\"simplified `step!` call\"\n",
    "step!(p::Player, σ::PEvent) = step!(p, p.state, σ)"
   ]
  },
  {
   "cell_type": "markdown",
   "metadata": {},
   "source": [
    "In order to setup a simulation, we have to introduce a `Clock`, create and initialize the players, to start and to run the game:"
   ]
  },
  {
   "cell_type": "code",
   "execution_count": 5,
   "metadata": {},
   "outputs": [
    {
     "name": "stdout",
     "output_type": "stream",
     "text": [
      "3.30: Ping serves Pong\n",
      "3.43: Pong returns Ping\n",
      "3.59: Ping returns Pong\n",
      "3.72: Pong returns Ping\n",
      "3.86: Ping returns Pong\n",
      "4.01: Pong returns Ping\n",
      "4.18: Ping returns Pong\n",
      "4.35: Pong returns Ping\n",
      "4.45: Ping returns Pong\n",
      "4.45: Pong looses ball\n",
      "7.99: Pong serves Ping\n",
      "7.99: Ping looses ball\n",
      "11.15: Ping serves Pong\n",
      "11.28: Pong returns Ping\n",
      "11.38: Ping returns Pong\n",
      "11.54: Pong returns Ping\n",
      "11.71: Ping returns and misses Pong\n",
      "14.97: Pong serves Ping\n",
      "15.21: Ping returns Pong\n",
      "15.42: Pong returns Ping\n",
      "15.60: Ping returns Pong\n",
      "15.77: Pong returns Ping\n",
      "15.77: Ping looses ball\n",
      "19.12: Ping serves Pong\n",
      "19.23: Pong returns Ping\n",
      "19.46: Ping returns and misses Pong\n",
      "22.77: Pong serves Ping\n",
      "22.92: Ping returns Pong\n",
      "23.06: Pong returns Ping\n",
      "23.19: Ping returns Pong\n",
      "23.41: Pong returns and misses Ping\n",
      "27.06: Ping serves Pong\n",
      "27.18: Pong returns Ping\n",
      "27.18: Ping looses ball\n",
      "30.64: Ping serves Pong\n",
      "Finished: 30 events, simulation time: 30.0\n",
      "Ping scored 2\n",
      "Pong scored 5\n"
     ]
    }
   ],
   "source": [
    "sim = Clock()\n",
    "ping = Player(\"Ping\", 0.90, 0.90)\n",
    "pong = Player(\"Pong\", 0.90, 0.90)\n",
    "init!(ping, sim, pong)\n",
    "init!(pong, sim, ping)\n",
    "step!(ping, Start())\n",
    "\n",
    "run!(sim, 30)\n",
    "println(\"Ping scored $(ping.score)\")\n",
    "println(\"Pong scored $(pong.score)\")"
   ]
  },
  {
   "cell_type": "code",
   "execution_count": null,
   "metadata": {},
   "outputs": [],
   "source": []
  }
 ],
 "metadata": {
  "kernelspec": {
   "display_name": "Julia 1.2.0",
   "language": "julia",
   "name": "julia-1.2"
  },
  "language_info": {
   "file_extension": ".jl",
   "mimetype": "application/julia",
   "name": "julia",
   "version": "1.2.0"
  }
 },
 "nbformat": 4,
 "nbformat_minor": 2
}
