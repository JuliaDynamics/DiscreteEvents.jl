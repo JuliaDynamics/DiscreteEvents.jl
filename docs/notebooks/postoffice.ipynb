{
 "cells": [
  {
   "cell_type": "markdown",
   "metadata": {},
   "source": [
    "# A Post Office – A Real Life Story\n",
    "\n",
    "*Paul Bayer, 2019-11-08, v0.3*\n",
    "\n",
    "Let us begin with an everyday story: there is a small post office with one clerk serving the arriving customers. Customers have differing wishes leading to different serving times, from `1 - 5 minutes`. We have to add a little variation to serving times counting for variation in customer habits and clerk performance. The arrival rate of customers is about 18 per hour, every `3.33 minutes` or `3 minutes, 20 seconds` on average. Our post office is small and customer patience is limited, so queue length is limited to 5 customers. \n",
    "\n",
    "We have provided 10% extra capacity, so our expectation is that there should not be too many customers discouraged for long waiting times or for full queues.\n",
    "\n",
    "![post office](../src/images/PostOffice.png)\n",
    "\n",
    "Let's do a process-based simulation using [`Simulate`](https://github.com/pbayer/Simulate.jl). We need \n",
    "\n",
    "1. a source: all the **people**, providing an unlimited supply for customers,\n",
    "2. **customers** with their demands and their limited patience,\n",
    "3. a **queue** and\n",
    "4. our good old **clerk**."
   ]
  },
  {
   "cell_type": "markdown",
   "metadata": {},
   "source": [
    "First we must load the needed modules, describe a customer and define some needed helper functions. "
   ]
  },
  {
   "cell_type": "code",
   "execution_count": 1,
   "metadata": {},
   "outputs": [
    {
     "data": {
      "text/plain": [
       "logevent (generic function with 1 method)"
      ]
     },
     "execution_count": 1,
     "metadata": {},
     "output_type": "execute_result"
    }
   ],
   "source": [
    "using Simulate, Random, Distributions, DataFrames\n",
    "\n",
    "mutable struct Customer\n",
    "    id::Int64\n",
    "    arrival::Float64\n",
    "    request::Int64\n",
    "\n",
    "    Customer(n::Int64, arrival::Float64) = new(n, arrival, rand(DiscreteUniform(1, 5)))\n",
    "end\n",
    "\n",
    "full(q::Channel) = length(q.data) >= q.sz_max\n",
    "logevent(nr, queue::Channel, info::AbstractString, wt::Number) =\n",
    "    push!(df, (round(τ(), digits=2), nr, length(queue.data), info, wt))"
   ]
  },
  {
   "cell_type": "markdown",
   "metadata": {},
   "source": [
    "Then we define functions for our processes: people and clerk."
   ]
  },
  {
   "cell_type": "code",
   "execution_count": 2,
   "metadata": {},
   "outputs": [
    {
     "data": {
      "text/plain": [
       "clerk (generic function with 1 method)"
      ]
     },
     "execution_count": 2,
     "metadata": {},
     "output_type": "execute_result"
    }
   ],
   "source": [
    "function people(output::Channel, β::Float64)\n",
    "    i = 1\n",
    "    while true\n",
    "        Δt = rand(Exponential(β))\n",
    "        delay!(Δt)\n",
    "        if !full(output)\n",
    "            put!(output, Customer(i, τ()))\n",
    "            logevent(i, output, \"enqueues\", 0)\n",
    "         else\n",
    "            logevent(i, output, \"leaves - queue is full!\", -1)\n",
    "        end\n",
    "        i += 1\n",
    "    end\n",
    "end\n",
    "\n",
    "function clerk(input::Channel)\n",
    "    cust = take!(input)\n",
    "    Δt = cust.request + randn()*0.2\n",
    "    logevent(cust.id, input, \"now being served\", τ() - cust.arrival)\n",
    "    delay!(Δt)\n",
    "    logevent(cust.id, input, \"leaves\", τ() - cust.arrival)\n",
    "end"
   ]
  },
  {
   "cell_type": "markdown",
   "metadata": {},
   "source": [
    "Then we have to create out data, register and startup the processes:"
   ]
  },
  {
   "cell_type": "code",
   "execution_count": 3,
   "metadata": {},
   "outputs": [
    {
     "data": {
      "text/plain": [
       "2"
      ]
     },
     "execution_count": 3,
     "metadata": {},
     "output_type": "execute_result"
    }
   ],
   "source": [
    "reset!(𝐶)  # for repeated runs it is easier if we reset our central clock here\n",
    "Random.seed!(2019)  # seed random number generator for reproducibility\n",
    "queue = Channel(5)  # thus we determine the max size of the queue\n",
    "\n",
    "df = DataFrame(time=Float64[], cust=Int[], qlen=Int64[], status=String[], wtime=Float64[])\n",
    "\n",
    "process!(𝐶, SimProcess(1, people, queue, 3.333)) # register the functions as processes\n",
    "process!(𝐶, SimProcess(2, clerk, queue))"
   ]
  },
  {
   "cell_type": "markdown",
   "metadata": {},
   "source": [
    "Then we can simply run the simulation. We assume our time unit being minutes, so we run for 600 units:"
   ]
  },
  {
   "cell_type": "code",
   "execution_count": 4,
   "metadata": {},
   "outputs": [
    {
     "name": "stdout",
     "output_type": "stream",
     "text": [
      "run! finished with 338 clock events, 0 sample steps, simulation time: 600.0\n",
      "0 customers yet in queue\n"
     ]
    }
   ],
   "source": [
    "println(run!(𝐶, 600))\n",
    "println(\"$(length(queue.data)) customers yet in queue\")"
   ]
  },
  {
   "cell_type": "markdown",
   "metadata": {},
   "source": [
    "Our table has registered it all:"
   ]
  },
  {
   "cell_type": "code",
   "execution_count": 5,
   "metadata": {},
   "outputs": [
    {
     "data": {
      "text/html": [
       "<table class=\"data-frame\"><thead><tr><th></th><th>time</th><th>cust</th><th>qlen</th><th>status</th><th>wtime</th></tr><tr><th></th><th>Float64</th><th>Int64</th><th>Int64</th><th>String</th><th>Float64</th></tr></thead><tbody><p>505 rows × 5 columns</p><tr><th>1</th><td>1.2</td><td>1</td><td>1</td><td>enqueues</td><td>0.0</td></tr><tr><th>2</th><td>1.2</td><td>1</td><td>0</td><td>now being served</td><td>0.0</td></tr><tr><th>3</th><td>5.46</td><td>2</td><td>1</td><td>enqueues</td><td>0.0</td></tr><tr><th>4</th><td>5.5</td><td>3</td><td>2</td><td>enqueues</td><td>0.0</td></tr><tr><th>5</th><td>6.19</td><td>1</td><td>2</td><td>leaves</td><td>4.99532</td></tr><tr><th>6</th><td>6.19</td><td>2</td><td>1</td><td>now being served</td><td>0.737497</td></tr><tr><th>7</th><td>7.99</td><td>4</td><td>2</td><td>enqueues</td><td>0.0</td></tr><tr><th>8</th><td>8.81</td><td>2</td><td>2</td><td>leaves</td><td>3.35581</td></tr><tr><th>9</th><td>8.81</td><td>3</td><td>1</td><td>now being served</td><td>3.30971</td></tr><tr><th>10</th><td>12.33</td><td>5</td><td>2</td><td>enqueues</td><td>0.0</td></tr><tr><th>11</th><td>12.98</td><td>3</td><td>2</td><td>leaves</td><td>7.4733</td></tr><tr><th>12</th><td>12.98</td><td>4</td><td>1</td><td>now being served</td><td>4.98585</td></tr><tr><th>13</th><td>13.73</td><td>4</td><td>1</td><td>leaves</td><td>5.74268</td></tr><tr><th>14</th><td>13.73</td><td>5</td><td>0</td><td>now being served</td><td>1.39837</td></tr><tr><th>15</th><td>15.72</td><td>6</td><td>1</td><td>enqueues</td><td>0.0</td></tr><tr><th>16</th><td>17.12</td><td>7</td><td>2</td><td>enqueues</td><td>0.0</td></tr><tr><th>17</th><td>17.73</td><td>5</td><td>2</td><td>leaves</td><td>5.3967</td></tr><tr><th>18</th><td>17.73</td><td>6</td><td>1</td><td>now being served</td><td>2.00988</td></tr><tr><th>19</th><td>20.0</td><td>8</td><td>2</td><td>enqueues</td><td>0.0</td></tr><tr><th>20</th><td>20.76</td><td>9</td><td>3</td><td>enqueues</td><td>0.0</td></tr><tr><th>21</th><td>23.26</td><td>6</td><td>3</td><td>leaves</td><td>7.53774</td></tr><tr><th>22</th><td>23.26</td><td>7</td><td>2</td><td>now being served</td><td>6.13554</td></tr><tr><th>23</th><td>25.43</td><td>10</td><td>3</td><td>enqueues</td><td>0.0</td></tr><tr><th>24</th><td>26.0</td><td>11</td><td>4</td><td>enqueues</td><td>0.0</td></tr><tr><th>25</th><td>26.35</td><td>7</td><td>4</td><td>leaves</td><td>9.22525</td></tr><tr><th>26</th><td>26.35</td><td>8</td><td>3</td><td>now being served</td><td>6.34474</td></tr><tr><th>27</th><td>27.49</td><td>12</td><td>4</td><td>enqueues</td><td>0.0</td></tr><tr><th>28</th><td>27.64</td><td>8</td><td>4</td><td>leaves</td><td>7.63665</td></tr><tr><th>29</th><td>27.64</td><td>9</td><td>3</td><td>now being served</td><td>6.88549</td></tr><tr><th>30</th><td>29.06</td><td>13</td><td>4</td><td>enqueues</td><td>0.0</td></tr><tr><th>&vellip;</th><td>&vellip;</td><td>&vellip;</td><td>&vellip;</td><td>&vellip;</td><td>&vellip;</td></tr></tbody></table>"
      ],
      "text/latex": [
       "\\begin{tabular}{r|ccccc}\n",
       "\t& time & cust & qlen & status & wtime\\\\\n",
       "\t\\hline\n",
       "\t& Float64 & Int64 & Int64 & String & Float64\\\\\n",
       "\t\\hline\n",
       "\t1 & 1.2 & 1 & 1 & enqueues & 0.0 \\\\\n",
       "\t2 & 1.2 & 1 & 0 & now being served & 0.0 \\\\\n",
       "\t3 & 5.46 & 2 & 1 & enqueues & 0.0 \\\\\n",
       "\t4 & 5.5 & 3 & 2 & enqueues & 0.0 \\\\\n",
       "\t5 & 6.19 & 1 & 2 & leaves & 4.99532 \\\\\n",
       "\t6 & 6.19 & 2 & 1 & now being served & 0.737497 \\\\\n",
       "\t7 & 7.99 & 4 & 2 & enqueues & 0.0 \\\\\n",
       "\t8 & 8.81 & 2 & 2 & leaves & 3.35581 \\\\\n",
       "\t9 & 8.81 & 3 & 1 & now being served & 3.30971 \\\\\n",
       "\t10 & 12.33 & 5 & 2 & enqueues & 0.0 \\\\\n",
       "\t11 & 12.98 & 3 & 2 & leaves & 7.4733 \\\\\n",
       "\t12 & 12.98 & 4 & 1 & now being served & 4.98585 \\\\\n",
       "\t13 & 13.73 & 4 & 1 & leaves & 5.74268 \\\\\n",
       "\t14 & 13.73 & 5 & 0 & now being served & 1.39837 \\\\\n",
       "\t15 & 15.72 & 6 & 1 & enqueues & 0.0 \\\\\n",
       "\t16 & 17.12 & 7 & 2 & enqueues & 0.0 \\\\\n",
       "\t17 & 17.73 & 5 & 2 & leaves & 5.3967 \\\\\n",
       "\t18 & 17.73 & 6 & 1 & now being served & 2.00988 \\\\\n",
       "\t19 & 20.0 & 8 & 2 & enqueues & 0.0 \\\\\n",
       "\t20 & 20.76 & 9 & 3 & enqueues & 0.0 \\\\\n",
       "\t21 & 23.26 & 6 & 3 & leaves & 7.53774 \\\\\n",
       "\t22 & 23.26 & 7 & 2 & now being served & 6.13554 \\\\\n",
       "\t23 & 25.43 & 10 & 3 & enqueues & 0.0 \\\\\n",
       "\t24 & 26.0 & 11 & 4 & enqueues & 0.0 \\\\\n",
       "\t25 & 26.35 & 7 & 4 & leaves & 9.22525 \\\\\n",
       "\t26 & 26.35 & 8 & 3 & now being served & 6.34474 \\\\\n",
       "\t27 & 27.49 & 12 & 4 & enqueues & 0.0 \\\\\n",
       "\t28 & 27.64 & 8 & 4 & leaves & 7.63665 \\\\\n",
       "\t29 & 27.64 & 9 & 3 & now being served & 6.88549 \\\\\n",
       "\t30 & 29.06 & 13 & 4 & enqueues & 0.0 \\\\\n",
       "\t$\\dots$ & $\\dots$ & $\\dots$ & $\\dots$ & $\\dots$ & $\\dots$ \\\\\n",
       "\\end{tabular}\n"
      ],
      "text/plain": [
       "505×5 DataFrame\n",
       "│ Row │ time    │ cust  │ qlen  │ status           │ wtime    │\n",
       "│     │ \u001b[90mFloat64\u001b[39m │ \u001b[90mInt64\u001b[39m │ \u001b[90mInt64\u001b[39m │ \u001b[90mString\u001b[39m           │ \u001b[90mFloat64\u001b[39m  │\n",
       "├─────┼─────────┼───────┼───────┼──────────────────┼──────────┤\n",
       "│ 1   │ 1.2     │ 1     │ 1     │ enqueues         │ 0.0      │\n",
       "│ 2   │ 1.2     │ 1     │ 0     │ now being served │ 0.0      │\n",
       "│ 3   │ 5.46    │ 2     │ 1     │ enqueues         │ 0.0      │\n",
       "│ 4   │ 5.5     │ 3     │ 2     │ enqueues         │ 0.0      │\n",
       "│ 5   │ 6.19    │ 1     │ 2     │ leaves           │ 4.99532  │\n",
       "│ 6   │ 6.19    │ 2     │ 1     │ now being served │ 0.737497 │\n",
       "│ 7   │ 7.99    │ 4     │ 2     │ enqueues         │ 0.0      │\n",
       "│ 8   │ 8.81    │ 2     │ 2     │ leaves           │ 3.35581  │\n",
       "│ 9   │ 8.81    │ 3     │ 1     │ now being served │ 3.30971  │\n",
       "│ 10  │ 12.33   │ 5     │ 2     │ enqueues         │ 0.0      │\n",
       "⋮\n",
       "│ 495 │ 581.4   │ 168   │ 2     │ now being served │ 11.4506  │\n",
       "│ 496 │ 585.29  │ 168   │ 2     │ leaves           │ 15.3383  │\n",
       "│ 497 │ 585.29  │ 169   │ 1     │ now being served │ 7.90111  │\n",
       "│ 498 │ 587.2   │ 169   │ 1     │ leaves           │ 9.81638  │\n",
       "│ 499 │ 587.2   │ 170   │ 0     │ now being served │ 9.70247  │\n",
       "│ 500 │ 587.98  │ 170   │ 0     │ leaves           │ 10.4767  │\n",
       "│ 501 │ 589.1   │ 171   │ 1     │ enqueues         │ 0.0      │\n",
       "│ 502 │ 589.1   │ 171   │ 0     │ now being served │ 0.0      │\n",
       "│ 503 │ 593.77  │ 171   │ 0     │ leaves           │ 4.67801  │\n",
       "│ 504 │ 598.01  │ 172   │ 1     │ enqueues         │ 0.0      │\n",
       "│ 505 │ 598.01  │ 172   │ 0     │ now being served │ 0.0      │"
      ]
     },
     "execution_count": 5,
     "metadata": {},
     "output_type": "execute_result"
    }
   ],
   "source": [
    "df"
   ]
  },
  {
   "cell_type": "code",
   "execution_count": 6,
   "metadata": {},
   "outputs": [
    {
     "data": {
      "text/html": [
       "<table class=\"data-frame\"><thead><tr><th></th><th>time</th><th>cust</th><th>qlen</th><th>status</th><th>wtime</th></tr><tr><th></th><th>Float64</th><th>Int64</th><th>Int64</th><th>String</th><th>Float64</th></tr></thead><tbody><p>5 rows × 5 columns</p><tr><th>1</th><td>589.1</td><td>171</td><td>1</td><td>enqueues</td><td>0.0</td></tr><tr><th>2</th><td>589.1</td><td>171</td><td>0</td><td>now being served</td><td>0.0</td></tr><tr><th>3</th><td>593.77</td><td>171</td><td>0</td><td>leaves</td><td>4.67801</td></tr><tr><th>4</th><td>598.01</td><td>172</td><td>1</td><td>enqueues</td><td>0.0</td></tr><tr><th>5</th><td>598.01</td><td>172</td><td>0</td><td>now being served</td><td>0.0</td></tr></tbody></table>"
      ],
      "text/latex": [
       "\\begin{tabular}{r|ccccc}\n",
       "\t& time & cust & qlen & status & wtime\\\\\n",
       "\t\\hline\n",
       "\t& Float64 & Int64 & Int64 & String & Float64\\\\\n",
       "\t\\hline\n",
       "\t1 & 589.1 & 171 & 1 & enqueues & 0.0 \\\\\n",
       "\t2 & 589.1 & 171 & 0 & now being served & 0.0 \\\\\n",
       "\t3 & 593.77 & 171 & 0 & leaves & 4.67801 \\\\\n",
       "\t4 & 598.01 & 172 & 1 & enqueues & 0.0 \\\\\n",
       "\t5 & 598.01 & 172 & 0 & now being served & 0.0 \\\\\n",
       "\\end{tabular}\n"
      ],
      "text/plain": [
       "5×5 DataFrame\n",
       "│ Row │ time    │ cust  │ qlen  │ status           │ wtime   │\n",
       "│     │ \u001b[90mFloat64\u001b[39m │ \u001b[90mInt64\u001b[39m │ \u001b[90mInt64\u001b[39m │ \u001b[90mString\u001b[39m           │ \u001b[90mFloat64\u001b[39m │\n",
       "├─────┼─────────┼───────┼───────┼──────────────────┼─────────┤\n",
       "│ 1   │ 589.1   │ 171   │ 1     │ enqueues         │ 0.0     │\n",
       "│ 2   │ 589.1   │ 171   │ 0     │ now being served │ 0.0     │\n",
       "│ 3   │ 593.77  │ 171   │ 0     │ leaves           │ 4.67801 │\n",
       "│ 4   │ 598.01  │ 172   │ 1     │ enqueues         │ 0.0     │\n",
       "│ 5   │ 598.01  │ 172   │ 0     │ now being served │ 0.0     │"
      ]
     },
     "execution_count": 6,
     "metadata": {},
     "output_type": "execute_result"
    }
   ],
   "source": [
    "last(df, 5)"
   ]
  },
  {
   "cell_type": "code",
   "execution_count": 7,
   "metadata": {},
   "outputs": [
    {
     "name": "stdout",
     "output_type": "stream",
     "text": [
      "Summary Stats:\n",
      "Length:         302\n",
      "Missing Count:  0\n",
      "Mean:           7.486712\n",
      "Minimum:        0.009196\n",
      "1st Quartile:   3.866847\n",
      "Median:         6.409644\n",
      "3rd Quartile:   10.541481\n",
      "Maximum:        23.268310\n",
      "Type:           Float64\n"
     ]
    }
   ],
   "source": [
    "describe(df[df[!, :wtime] .> 0, :wtime])"
   ]
  },
  {
   "cell_type": "markdown",
   "metadata": {},
   "source": [
    "In $600$ minutes simulation time, we registered $172$ customers and $505$ status changes. The mean and median waiting times were around $7$ minutes."
   ]
  },
  {
   "cell_type": "code",
   "execution_count": 8,
   "metadata": {},
   "outputs": [
    {
     "data": {
      "text/html": [
       "<table class=\"data-frame\"><thead><tr><th></th><th>status</th><th>x1</th></tr><tr><th></th><th>String</th><th>Int64</th></tr></thead><tbody><p>4 rows × 2 columns</p><tr><th>1</th><td>enqueues</td><td>167</td></tr><tr><th>2</th><td>now being served</td><td>167</td></tr><tr><th>3</th><td>leaves</td><td>166</td></tr><tr><th>4</th><td>leaves - queue is full!</td><td>5</td></tr></tbody></table>"
      ],
      "text/latex": [
       "\\begin{tabular}{r|cc}\n",
       "\t& status & x1\\\\\n",
       "\t\\hline\n",
       "\t& String & Int64\\\\\n",
       "\t\\hline\n",
       "\t1 & enqueues & 167 \\\\\n",
       "\t2 & now being served & 167 \\\\\n",
       "\t3 & leaves & 166 \\\\\n",
       "\t4 & leaves - queue is full! & 5 \\\\\n",
       "\\end{tabular}\n"
      ],
      "text/plain": [
       "4×2 DataFrame\n",
       "│ Row │ status                  │ x1    │\n",
       "│     │ \u001b[90mString\u001b[39m                  │ \u001b[90mInt64\u001b[39m │\n",
       "├─────┼─────────────────────────┼───────┤\n",
       "│ 1   │ enqueues                │ 167   │\n",
       "│ 2   │ now being served        │ 167   │\n",
       "│ 3   │ leaves                  │ 166   │\n",
       "│ 4   │ leaves - queue is full! │ 5     │"
      ]
     },
     "execution_count": 8,
     "metadata": {},
     "output_type": "execute_result"
    }
   ],
   "source": [
    "by(df, :status, df -> size(df, 1))"
   ]
  },
  {
   "cell_type": "markdown",
   "metadata": {},
   "source": [
    "Of the $172$ customers, $167$ of them participated in the whole process and were served, but $5$ left beforehand because the queue was full: "
   ]
  },
  {
   "cell_type": "code",
   "execution_count": 9,
   "metadata": {},
   "outputs": [
    {
     "data": {
      "text/html": [
       "<table class=\"data-frame\"><thead><tr><th></th><th>time</th><th>cust</th><th>qlen</th><th>status</th><th>wtime</th></tr><tr><th></th><th>Float64</th><th>Int64</th><th>Int64</th><th>String</th><th>Float64</th></tr></thead><tbody><p>5 rows × 5 columns</p><tr><th>1</th><td>45.32</td><td>19</td><td>5</td><td>leaves - queue is full!</td><td>-1.0</td></tr><tr><th>2</th><td>249.11</td><td>66</td><td>5</td><td>leaves - queue is full!</td><td>-1.0</td></tr><tr><th>3</th><td>270.04</td><td>74</td><td>5</td><td>leaves - queue is full!</td><td>-1.0</td></tr><tr><th>4</th><td>380.39</td><td>106</td><td>5</td><td>leaves - queue is full!</td><td>-1.0</td></tr><tr><th>5</th><td>382.02</td><td>107</td><td>5</td><td>leaves - queue is full!</td><td>-1.0</td></tr></tbody></table>"
      ],
      "text/latex": [
       "\\begin{tabular}{r|ccccc}\n",
       "\t& time & cust & qlen & status & wtime\\\\\n",
       "\t\\hline\n",
       "\t& Float64 & Int64 & Int64 & String & Float64\\\\\n",
       "\t\\hline\n",
       "\t1 & 45.32 & 19 & 5 & leaves - queue is full! & -1.0 \\\\\n",
       "\t2 & 249.11 & 66 & 5 & leaves - queue is full! & -1.0 \\\\\n",
       "\t3 & 270.04 & 74 & 5 & leaves - queue is full! & -1.0 \\\\\n",
       "\t4 & 380.39 & 106 & 5 & leaves - queue is full! & -1.0 \\\\\n",
       "\t5 & 382.02 & 107 & 5 & leaves - queue is full! & -1.0 \\\\\n",
       "\\end{tabular}\n"
      ],
      "text/plain": [
       "5×5 DataFrame\n",
       "│ Row │ time    │ cust  │ qlen  │ status                  │ wtime   │\n",
       "│     │ \u001b[90mFloat64\u001b[39m │ \u001b[90mInt64\u001b[39m │ \u001b[90mInt64\u001b[39m │ \u001b[90mString\u001b[39m                  │ \u001b[90mFloat64\u001b[39m │\n",
       "├─────┼─────────┼───────┼───────┼─────────────────────────┼─────────┤\n",
       "│ 1   │ 45.32   │ 19    │ 5     │ leaves - queue is full! │ -1.0    │\n",
       "│ 2   │ 249.11  │ 66    │ 5     │ leaves - queue is full! │ -1.0    │\n",
       "│ 3   │ 270.04  │ 74    │ 5     │ leaves - queue is full! │ -1.0    │\n",
       "│ 4   │ 380.39  │ 106   │ 5     │ leaves - queue is full! │ -1.0    │\n",
       "│ 5   │ 382.02  │ 107   │ 5     │ leaves - queue is full! │ -1.0    │"
      ]
     },
     "execution_count": 9,
     "metadata": {},
     "output_type": "execute_result"
    }
   ],
   "source": [
    "df[df.wtime .< 0,:]"
   ]
  },
  {
   "cell_type": "code",
   "execution_count": 10,
   "metadata": {},
   "outputs": [
    {
     "data": {
      "image/png": "[encoded data removed]",
      "text/plain": [
       "Figure(PyObject <Figure size 640x480 with 1 Axes>)"
      ]
     },
     "metadata": {},
     "output_type": "display_data"
    }
   ],
   "source": [
    "using PyPlot\n",
    "step(df.time, df.wtime)\n",
    "step(df.time, df.qlen)\n",
    "axhline(y=0, color=\"k\")\n",
    "grid()\n",
    "xlabel(\"time [min]\")\n",
    "ylabel(\"wait time [min], queue length\")\n",
    "title(\"Waiting Time in the Post Office\")\n",
    "legend([\"wait_time\", \"queue_len\"]);"
   ]
  },
  {
   "cell_type": "markdown",
   "metadata": {},
   "source": [
    "Many customers had waiting times of more than 10, 15 up to even more than 20 minutes. The negative waiting times were the 5 customers, which left because the queue was full.\n",
    "\n",
    "So many customers will remain angry. If this is the situation all days, our post office will have an evil reputation. What should we do?\n",
    "\n",
    "## Conclusion\n",
    "\n",
    "Even if our process runs within predetermined bounds (queue length, customer wishes …), it seems to fluctuate wildly and to produce unpredicted effects. We see here the **effects of variation** in arrivals, in demands and in serving time on system performance. In this case 10% extra capacity is not enough to provide enough buffer for variation and for customer service – even if our post clerk is the most willing person.\n",
    "\n",
    "Even for such a simple everyday system, we cannot say beforehand – without reality check – which throughput, waiting times, mean queue length, capacity utilization or customer satisfaction will emerge. Even more so for more complicated systems in production, service, projects and supply chains with multiple dependencies.\n",
    "\n",
    "If we had known the situation beforehand, we could have provided standby for our clerk or install an automatic stamp dispenser for cutting the short tasks … \n",
    "\n",
    "We should have done a simulation. We should have known `Simulate` before …  😄"
   ]
  },
  {
   "cell_type": "code",
   "execution_count": null,
   "metadata": {},
   "outputs": [],
   "source": []
  }
 ],
 "metadata": {
  "@webio": {
   "lastCommId": null,
   "lastKernelId": null
  },
  "kernelspec": {
   "display_name": "Julia 1.2.0",
   "language": "julia",
   "name": "julia-1.2"
  },
  "language_info": {
   "file_extension": ".jl",
   "mimetype": "application/julia",
   "name": "julia",
   "version": "1.2.0"
  }
 },
 "nbformat": 4,
 "nbformat_minor": 2
}
