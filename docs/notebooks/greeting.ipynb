{
 "cells": [
  {
   "cell_type": "markdown",
   "metadata": {},
   "source": [
    "# Two guys meet\n",
    "\n",
    "This example is intended to illustrate the use uf `Sim.jl`."
   ]
  },
  {
   "cell_type": "code",
   "execution_count": 1,
   "metadata": {},
   "outputs": [],
   "source": [
    "using Sim, Printf"
   ]
  },
  {
   "cell_type": "markdown",
   "metadata": {},
   "source": [
    "Since we implement the encounter as state machines, we need some definitions. For simplicity we don't implement a state here but only events."
   ]
  },
  {
   "cell_type": "code",
   "execution_count": 2,
   "metadata": {},
   "outputs": [],
   "source": [
    "struct Guy\n",
    "    name\n",
    "end\n",
    "\n",
    "abstract type Encounter end\n",
    "struct Meet <: Encounter\n",
    "    someone\n",
    "end\n",
    "struct Greet <: Encounter\n",
    "    num\n",
    "    from\n",
    "end\n",
    "struct Response <: Encounter\n",
    "    num\n",
    "    from\n",
    "end"
   ]
  },
  {
   "cell_type": "markdown",
   "metadata": {},
   "source": [
    "We have some convenience functions:"
   ]
  },
  {
   "cell_type": "code",
   "execution_count": 3,
   "metadata": {},
   "outputs": [
    {
     "data": {
      "text/plain": [
       "say (generic function with 1 method)"
      ]
     },
     "execution_count": 3,
     "metadata": {},
     "output_type": "execute_result"
    }
   ],
   "source": [
    "comm = (\"Nice to meet you!\", \"How are you?\", \"Have a nice day!\", \"bye bye\")\n",
    "say(name, n) =  @printf(\"%5.2f s, %s: %s\\n\", now(sim), name, comm[n])"
   ]
  },
  {
   "cell_type": "markdown",
   "metadata": {},
   "source": [
    "Now we implement the actions between the state machines as different methods of a `step!`-function, which will be called according to events. "
   ]
  },
  {
   "cell_type": "code",
   "execution_count": 6,
   "metadata": {},
   "outputs": [
    {
     "data": {
      "text/plain": [
       "step! (generic function with 3 methods)"
      ]
     },
     "execution_count": 6,
     "metadata": {},
     "output_type": "execute_result"
    }
   ],
   "source": [
    "function step!(me::Guy, σ::Meet)\n",
    "    event!(sim, SimFunction(step!, σ.someone, Greet(1, me)), after, 2*rand())\n",
    "    say(me.name, 1)\n",
    "end\n",
    "\n",
    "function step!(me::Guy, σ::Greet)\n",
    "    if σ.num < 3\n",
    "        event!(sim, SimFunction(step!, σ.from, Response(σ.num, me)), after, 2*rand())\n",
    "        say(me.name, σ.num)\n",
    "    else\n",
    "        say(me.name, 4)\n",
    "    end\n",
    "end\n",
    "\n",
    "function step!(me::Guy, σ::Response)\n",
    "    event!(sim, SimFunction(step!, σ.from, Greet(σ.num+1, me)), after, 2*rand())\n",
    "    say(me.name, σ.num+1)\n",
    "end"
   ]
  },
  {
   "cell_type": "markdown",
   "metadata": {},
   "source": [
    "Now we need a simulation clock and two guys (state machines), define a starting event and run it."
   ]
  },
  {
   "cell_type": "code",
   "execution_count": 7,
   "metadata": {},
   "outputs": [
    {
     "name": "stdout",
     "output_type": "stream",
     "text": [
      " 7.01 s, Foo: Nice to meet you!\n",
      " 7.09 s, Bar: Nice to meet you!\n",
      " 7.63 s, Foo: How are you?\n",
      " 8.08 s, Bar: How are you?\n",
      " 9.82 s, Foo: Have a nice day!\n",
      "11.43 s, Bar: bye bye\n",
      "Finished: 6 events, simulation time: 20.0\n"
     ]
    }
   ],
   "source": [
    "sim = Clock()\n",
    "foo = Guy(\"Foo\")\n",
    "bar = Guy(\"Bar\")\n",
    "\n",
    "event!(sim, SimFunction(step!, foo, Meet(bar)), at, 10*rand())\n",
    "run!(sim, 20)"
   ]
  },
  {
   "cell_type": "code",
   "execution_count": null,
   "metadata": {},
   "outputs": [],
   "source": []
  }
 ],
 "metadata": {
  "@webio": {
   "lastCommId": null,
   "lastKernelId": null
  },
  "kernelspec": {
   "display_name": "Julia 1.2.0",
   "language": "julia",
   "name": "julia-1.2"
  },
  "language_info": {
   "file_extension": ".jl",
   "mimetype": "application/julia",
   "name": "julia",
   "version": "1.2.0"
  }
 },
 "nbformat": 4,
 "nbformat_minor": 2
}
