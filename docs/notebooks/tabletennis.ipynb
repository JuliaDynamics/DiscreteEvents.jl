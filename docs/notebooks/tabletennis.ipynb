{
 "cells": [
  {
   "cell_type": "markdown",
   "metadata": {},
   "source": [
    "# Table tennis simulation\n",
    "\n",
    "This example shows the usage of `Simulate.jl` with event driven state machines."
   ]
  },
  {
   "cell_type": "code",
   "execution_count": 1,
   "metadata": {},
   "outputs": [],
   "source": [
    "using Simulate, Printf\n",
    "import Simulate.init!"
   ]
  },
  {
   "cell_type": "markdown",
   "metadata": {},
   "source": [
    "Here we implement players as timed state machines and thus need some data describing the players and definitions of states and events:"
   ]
  },
  {
   "cell_type": "code",
   "execution_count": 2,
   "metadata": {},
   "outputs": [],
   "source": [
    "abstract type PState end\n",
    "struct Idle <: PState end\n",
    "struct Wait <: PState end\n",
    "struct Unalert <: PState end\n",
    "\n",
    "abstract type PEvent end\n",
    "struct Start <: PEvent end\n",
    "struct Serve <: PEvent end\n",
    "struct Return <: PEvent end\n",
    "struct Miss <: PEvent end\n",
    "\n",
    "mutable struct Player\n",
    "    name::AbstractString\n",
    "    opp::Union{Number,Player}\n",
    "    state::PState\n",
    "    accuracy::Float64\n",
    "    attentiveness::Float64\n",
    "    score::Int64\n",
    "\n",
    "    Player(name, acc, att) = new(name, 0, Idle(), acc, att, 0)\n",
    "end"
   ]
  },
  {
   "cell_type": "markdown",
   "metadata": {},
   "source": [
    "Then we have some physical facts to define and a function to randomize them:"
   ]
  },
  {
   "cell_type": "code",
   "execution_count": 3,
   "metadata": {},
   "outputs": [
    {
     "data": {
      "text/plain": [
       "rd (generic function with 1 method)"
      ]
     },
     "execution_count": 3,
     "metadata": {},
     "output_type": "execute_result"
    }
   ],
   "source": [
    "const dist = 3 # distance for ball to fly [m]\n",
    "const vs   = 10 # serve velocity [m/s]\n",
    "const vr   = 20 # return velocity [m/s]\n",
    "\n",
    "rd(s::Float64) = randn()*s + 1"
   ]
  },
  {
   "cell_type": "markdown",
   "metadata": {},
   "source": [
    "Next we must describe the behaviour of our players. They are modeled as finite state machines, which have known states and react to known events. This is done with the `step!` function. Julia's multiple dispatch allows to give multiple definitions of `step!` for different combinations of states and events.\n",
    "\n",
    "The `serve` and `ret`-functions, used for describing serving and return of players are used to randomize the time and the behaviour of players. The players thus act probabilistically as Markov automata.\n",
    "\n",
    "The `serve`und `ret`-functions use some `Sim.jl`-features:\n",
    "\n",
    "- `𝐶` (`\\itC`+Tab) or `Clk` is the central simulation clock, \n",
    "- `τ()` or `tau()` gives the time of this clock,\n",
    "- `event!` schedules an expression or a function after some time. In this case we use expressions for illustration. (Normally it is easier to schedule functions with `SimFunction`.)\n",
    "- in an expression we may interpolate some variables, e.g. `$(p.opp)`, which includes the variable content, not the symbol in the expression. "
   ]
  },
  {
   "cell_type": "code",
   "execution_count": 4,
   "metadata": {},
   "outputs": [
    {
     "data": {
      "text/plain": [
       "ret (generic function with 1 method)"
      ]
     },
     "execution_count": 4,
     "metadata": {},
     "output_type": "execute_result"
    }
   ],
   "source": [
    "function init!(p::Player, opp::Player)\n",
    "    p.opp = opp\n",
    "    if rand() ≤ p.attentiveness\n",
    "        p.state = Wait()\n",
    "    else\n",
    "        p.state = Unalert()\n",
    "    end\n",
    "end\n",
    "\n",
    "function serve(p::Player)\n",
    "    ts = 3 + dist*rd(0.15)/(vs*rd(0.25))\n",
    "    if (rand() ≤ p.accuracy) && (p.state == Wait())\n",
    "        event!(𝐶, :(step!($(p.opp), Serve())), after, ts)\n",
    "        @printf(\"%.2f: %s serves %s\\n\", τ()+ts, p.name, p.opp.name)\n",
    "    else\n",
    "        event!(𝐶, :(step!($(p.opp), Miss())), after, ts)\n",
    "        @printf(\"%.2f: %s serves and misses %s\\n\", τ()+ts, p.name, p.opp.name)\n",
    "    end\n",
    "    if rand() ≥ p.attentiveness\n",
    "        p.state = Unalert()\n",
    "    end\n",
    "end\n",
    "\n",
    "function ret(p::Player)\n",
    "    tr = dist*rd(0.15)/(vr*rd(0.25))\n",
    "    if rand() ≤ p.accuracy\n",
    "        event!(𝐶, :(step!($(p.opp), Return())), after, tr)\n",
    "        @printf(\"%.2f: %s returns %s\\n\", τ()+tr, p.name, p.opp.name)\n",
    "    else\n",
    "        event!(𝐶, :(step!($(p.opp), Miss())), after, tr)\n",
    "        @printf(\"%.2f: %s returns and misses %s\\n\", τ()+tr, p.name, p.opp.name)\n",
    "    end\n",
    "    if rand() ≥ p.attentiveness\n",
    "        p.state = Unalert()\n",
    "    end\n",
    "end"
   ]
  },
  {
   "cell_type": "markdown",
   "metadata": {},
   "source": [
    "The actual behaviour of a player is implemented as a state machine via the `step!`-$\\delta$-function. Here we implement different methods $\\delta(p, q, \\sigma)$ which are called at runtime according to states $q$ ond events $\\sigma$:"
   ]
  },
  {
   "cell_type": "code",
   "execution_count": 5,
   "metadata": {},
   "outputs": [
    {
     "data": {
      "text/plain": [
       "step!"
      ]
     },
     "execution_count": 5,
     "metadata": {},
     "output_type": "execute_result"
    }
   ],
   "source": [
    "\"default transition for players\"\n",
    "step!(p::Player, q::PState, σ::PEvent) =\n",
    "        println(\"undefined transition for $(p.name), $q, $σ\")\n",
    "\n",
    "\"player p gets a start command\"\n",
    "step!(p::Player, ::Union{Wait, Unalert}, ::Start) = serve(p)\n",
    "\n",
    "\"player p is waiting and gets served or returned\"\n",
    "step!(p::Player, ::Wait, ::Union{Serve, Return}) = ret(p)\n",
    "\n",
    "\"player p is unalert and gets served or returned\"\n",
    "function step!(p::Player, ::Unalert, ::Union{Serve, Return})\n",
    "    @printf(\"%.2f: %s looses ball\\n\", τ(), p.name)\n",
    "    p.opp.score += 1\n",
    "    p.state = Wait()\n",
    "    serve(p)\n",
    "end\n",
    "\n",
    "\"player p is waiting or unalert and gets missed\"\n",
    "function step!(p::Player, ::Union{Wait, Unalert}, ::Miss)\n",
    "    p.score += 1\n",
    "    p.state = Wait()\n",
    "    serve(p)\n",
    "end\n",
    "\n",
    "\"simplified `step!` call\"\n",
    "step!(p::Player, σ::PEvent) = step!(p, p.state, σ)"
   ]
  },
  {
   "cell_type": "markdown",
   "metadata": {},
   "source": [
    "In order to setup a simulation, we have to create and initialize the players, to start and run the game:"
   ]
  },
  {
   "cell_type": "code",
   "execution_count": 6,
   "metadata": {},
   "outputs": [
    {
     "name": "stdout",
     "output_type": "stream",
     "text": [
      "3.42: Ping serves Pong\n",
      "3.55: Pong returns Ping\n",
      "3.65: Ping returns Pong\n",
      "3.80: Pong returns Ping\n",
      "3.96: Ping returns and misses Pong\n",
      "7.27: Pong serves Ping\n",
      "7.39: Ping returns and misses Pong\n",
      "10.68: Pong serves Ping\n",
      "10.89: Ping returns Pong\n",
      "11.41: Pong returns Ping\n",
      "11.53: Ping returns Pong\n",
      "11.86: Pong returns Ping\n",
      "11.99: Ping returns and misses Pong\n",
      "15.26: Pong serves Ping\n",
      "15.39: Ping returns Pong\n",
      "15.49: Pong returns Ping\n",
      "15.60: Ping returns Pong\n",
      "15.78: Pong returns Ping\n",
      "15.91: Ping returns Pong\n",
      "16.05: Pong returns and misses Ping\n",
      "19.39: Ping serves Pong\n",
      "19.54: Pong returns Ping\n",
      "19.54: Ping looses ball\n",
      "22.80: Ping serves and misses Pong\n",
      "26.24: Pong serves Ping\n",
      "26.24: Ping looses ball\n",
      "29.76: Ping serves Pong\n",
      "29.76: Pong looses ball\n",
      "33.15: Pong serves Ping\n",
      "Ping scored 2\n",
      "Pong scored 6\n"
     ]
    }
   ],
   "source": [
    "ping = Player(\"Ping\", 0.90, 0.90)\n",
    "pong = Player(\"Pong\", 0.90, 0.90)\n",
    "init!(ping, pong)\n",
    "init!(pong, ping)\n",
    "step!(ping, Start())\n",
    "\n",
    "run!(𝐶, 30)\n",
    "println(\"Ping scored $(ping.score)\")\n",
    "println(\"Pong scored $(pong.score)\")"
   ]
  },
  {
   "cell_type": "markdown",
   "metadata": {},
   "source": [
    "Finally we should reset `𝐶` for further simulations."
   ]
  },
  {
   "cell_type": "code",
   "execution_count": 7,
   "metadata": {},
   "outputs": [
    {
     "data": {
      "text/plain": [
       "\"clock reset to t₀=0.0, sampling rate Δt=0.0.\""
      ]
     },
     "execution_count": 7,
     "metadata": {},
     "output_type": "execute_result"
    }
   ],
   "source": [
    "reset!(𝐶)"
   ]
  },
  {
   "cell_type": "code",
   "execution_count": null,
   "metadata": {},
   "outputs": [],
   "source": []
  }
 ],
 "metadata": {
  "@webio": {
   "lastCommId": null,
   "lastKernelId": null
  },
  "kernelspec": {
   "display_name": "Julia 1.2.0",
   "language": "julia",
   "name": "julia-1.2"
  },
  "language_info": {
   "file_extension": ".jl",
   "mimetype": "application/julia",
   "name": "julia",
   "version": "1.2.0"
  }
 },
 "nbformat": 4,
 "nbformat_minor": 2
}
