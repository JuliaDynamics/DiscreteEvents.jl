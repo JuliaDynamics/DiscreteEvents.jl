{
 "cells": [
  {
   "cell_type": "markdown",
   "metadata": {},
   "source": [
    "# Table tennis simulation\n",
    "\n",
    "This example shows the usage of `Sim.jl` with event driven state machines."
   ]
  },
  {
   "cell_type": "code",
   "execution_count": 1,
   "metadata": {},
   "outputs": [],
   "source": [
    "using Sim, Printf\n",
    "import Sim.init!"
   ]
  },
  {
   "cell_type": "markdown",
   "metadata": {},
   "source": [
    "Here we implement players as nondeterministic finite automata (NFA's) and thus need some data describing the players and definitions of states and events:"
   ]
  },
  {
   "cell_type": "code",
   "execution_count": 2,
   "metadata": {},
   "outputs": [],
   "source": [
    "abstract type PState end\n",
    "struct Idle <: PState end\n",
    "struct Wait <: PState end\n",
    "struct Unalert <: PState end\n",
    "\n",
    "abstract type PEvent end\n",
    "struct Start <: PEvent end\n",
    "struct Serve <: PEvent end\n",
    "struct Return <: PEvent end\n",
    "struct Miss <: PEvent end\n",
    "\n",
    "mutable struct Player\n",
    "    name::AbstractString\n",
    "    opp::Union{Number,Player}\n",
    "    state::PState\n",
    "    accuracy::Float64\n",
    "    attentiveness::Float64\n",
    "    score::Int64\n",
    "\n",
    "    Player(name, acc, att) = new(name, 0, Idle(), acc, att, 0)\n",
    "end"
   ]
  },
  {
   "cell_type": "markdown",
   "metadata": {},
   "source": [
    "Then we have some physical facts to define and a function to randomize them:"
   ]
  },
  {
   "cell_type": "code",
   "execution_count": 3,
   "metadata": {},
   "outputs": [
    {
     "data": {
      "text/plain": [
       "rd (generic function with 1 method)"
      ]
     },
     "execution_count": 3,
     "metadata": {},
     "output_type": "execute_result"
    }
   ],
   "source": [
    "const dist = 3 # distance for ball to fly [m]\n",
    "const vs   = 10 # serve velocity [m/s]\n",
    "const vr   = 20 # return velocity [m/s]\n",
    "\n",
    "rd(s::Float64) = randn()*s + 1"
   ]
  },
  {
   "cell_type": "markdown",
   "metadata": {},
   "source": [
    "Next we must describe the behaviour of our players. They are modeled as finite state machines, which have known states and react to known events. This is done with the `step!` function. Julia's multiple dispatch allows to give multiple definitions of `step!` for different combinations of states and events.\n",
    "\n",
    "The `serve` and `ret`-functions, used for describing serving and return of players are used to randomize the time and the behaviour of players. The players thus act probabilistically as Markov automata.\n",
    "\n",
    "The `serve`und `ret`-functions use some `Sim.jl`-features:\n",
    "\n",
    "- `Τ` or `Tau` is the central simulation clock, \n",
    "- `τ()` or `tau()` gives the time of this clock,\n",
    "- `event!` schedules an expression after some time\n",
    "- in the expression we may interpolate some variables, e.g. `$(p.opp)`, which includes the variable content, not the symbol in the expression. "
   ]
  },
  {
   "cell_type": "code",
   "execution_count": 4,
   "metadata": {},
   "outputs": [
    {
     "data": {
      "text/plain": [
       "ret (generic function with 1 method)"
      ]
     },
     "execution_count": 4,
     "metadata": {},
     "output_type": "execute_result"
    }
   ],
   "source": [
    "function init!(p::Player, opp::Player)\n",
    "    p.opp = opp\n",
    "    if rand() ≤ p.attentiveness\n",
    "        p.state = Wait()\n",
    "    else\n",
    "        p.state = Unalert()\n",
    "    end\n",
    "end\n",
    "\n",
    "function serve(p::Player)\n",
    "    ts = 3 + dist*rd(0.15)/(vs*rd(0.25))\n",
    "    if rand() ≤ p.accuracy\n",
    "        event!(Τ, :(step!($(p.opp), Serve())), after, ts)\n",
    "        @printf(\"%.2f: %s serves %s\\n\", τ()+ts, p.name, p.opp.name)\n",
    "    else\n",
    "        event!(Τ, :(step!($(p.opp), Miss())), after, ts)\n",
    "        @printf(\"%.2f: %s serves and misses %s\\n\", τ()+ts, p.name, p.opp.name)\n",
    "    end\n",
    "    if rand() ≥ p.attentiveness\n",
    "        p.state = Unalert()\n",
    "    end\n",
    "end\n",
    "\n",
    "function ret(p::Player)\n",
    "    tr = dist*rd(0.15)/(vr*rd(0.25))\n",
    "    if rand() ≤ p.accuracy\n",
    "        event!(Τ, :(step!($(p.opp), Return())), after, tr)\n",
    "        @printf(\"%.2f: %s returns %s\\n\", τ()+tr, p.name, p.opp.name)\n",
    "    else\n",
    "        event!(Τ, :(step!($(p.opp), Miss())), after, tr)\n",
    "        @printf(\"%.2f: %s returns and misses %s\\n\", τ()+tr, p.name, p.opp.name)\n",
    "    end\n",
    "    if rand() ≥ p.attentiveness\n",
    "        p.state = Unalert()\n",
    "    end\n",
    "end"
   ]
  },
  {
   "cell_type": "markdown",
   "metadata": {},
   "source": [
    "The actual behaviour of a player is implemented as a state machine via the `step!`-$\\delta$-function. Here we implement different methods $\\delta(p, q, \\sigma)$ which are called at runtime according to states $q$ ond events $\\sigma$:"
   ]
  },
  {
   "cell_type": "code",
   "execution_count": 5,
   "metadata": {},
   "outputs": [
    {
     "data": {
      "text/plain": [
       "step!"
      ]
     },
     "execution_count": 5,
     "metadata": {},
     "output_type": "execute_result"
    }
   ],
   "source": [
    "\"default transition for players\"\n",
    "step!(p::Player, q::PState, σ::PEvent) =\n",
    "        println(\"undefined transition for $(p.name), $q, $σ\")\n",
    "\n",
    "\"player p gets a start command\"\n",
    "step!(p::Player, ::Wait, ::Start) = serve(p)\n",
    "\n",
    "\"player p is waiting and gets served or returned\"\n",
    "step!(p::Player, ::Wait, ::Union{Serve, Return}) = ret(p)\n",
    "\n",
    "\"player p is unalert and gets served or returned\"\n",
    "function step!(p::Player, ::Unalert, ::Union{Serve, Return})\n",
    "    @printf(\"%.2f: %s looses ball\\n\", τ(), p.name)\n",
    "    p.opp.score += 1\n",
    "    p.state = Wait()\n",
    "    serve(p)\n",
    "end\n",
    "\n",
    "\"player p is waiting or unalert and gets missed\"\n",
    "function step!(p::Player, ::Union{Wait, Unalert}, ::Miss)\n",
    "    p.score += 1\n",
    "    p.state = Wait()\n",
    "    serve(p)\n",
    "end\n",
    "\n",
    "\"simplified `step!` call\"\n",
    "step!(p::Player, σ::PEvent) = step!(p, p.state, σ)"
   ]
  },
  {
   "cell_type": "markdown",
   "metadata": {},
   "source": [
    "In order to setup a simulation, we have to create and initialize the players, to start and run the game:"
   ]
  },
  {
   "cell_type": "code",
   "execution_count": 6,
   "metadata": {},
   "outputs": [
    {
     "name": "stdout",
     "output_type": "stream",
     "text": [
      "3.24: Ping serves and misses Pong\n",
      "6.46: Pong serves Ping\n",
      "6.59: Ping returns Pong\n",
      "6.69: Pong returns Ping\n",
      "6.90: Ping returns Pong\n",
      "7.10: Pong returns Ping\n",
      "7.23: Ping returns Pong\n",
      "7.36: Pong returns Ping\n",
      "7.50: Ping returns Pong\n",
      "7.63: Pong returns Ping\n",
      "7.77: Ping returns Pong\n",
      "8.06: Pong returns Ping\n",
      "8.22: Ping returns and misses Pong\n",
      "11.53: Pong serves Ping\n",
      "11.64: Ping returns Pong\n",
      "11.75: Pong returns Ping\n",
      "11.86: Ping returns Pong\n",
      "12.13: Pong returns Ping\n",
      "12.33: Ping returns Pong\n",
      "12.52: Pong returns Ping\n",
      "12.68: Ping returns Pong\n",
      "12.68: Pong looses ball\n",
      "15.94: Pong serves Ping\n",
      "16.04: Ping returns Pong\n",
      "16.17: Pong returns Ping\n",
      "16.30: Ping returns Pong\n",
      "16.45: Pong returns Ping\n",
      "16.55: Ping returns Pong\n",
      "16.72: Pong returns Ping\n",
      "16.86: Ping returns Pong\n",
      "16.86: Pong looses ball\n",
      "20.24: Pong serves Ping\n",
      "20.38: Ping returns Pong\n",
      "20.51: Pong returns Ping\n",
      "20.65: Ping returns and misses Pong\n",
      "24.14: Pong serves Ping\n",
      "24.26: Ping returns Pong\n",
      "24.38: Pong returns Ping\n",
      "24.50: Ping returns Pong\n",
      "24.50: Pong looses ball\n",
      "27.66: Pong serves Ping\n",
      "27.78: Ping returns and misses Pong\n",
      "31.03: Pong serves Ping\n",
      "Finished: 39 events, simulation time: 30.0\n",
      "Ping scored 3\n",
      "Pong scored 4\n"
     ]
    }
   ],
   "source": [
    "ping = Player(\"Ping\", 0.90, 0.90)\n",
    "pong = Player(\"Pong\", 0.90, 0.90)\n",
    "init!(ping, pong)\n",
    "init!(pong, ping)\n",
    "step!(ping, Start())\n",
    "\n",
    "run!(Τ, 30)\n",
    "println(\"Ping scored $(ping.score)\")\n",
    "println(\"Pong scored $(pong.score)\")"
   ]
  },
  {
   "cell_type": "code",
   "execution_count": null,
   "metadata": {},
   "outputs": [],
   "source": []
  }
 ],
 "metadata": {
  "@webio": {
   "lastCommId": null,
   "lastKernelId": null
  },
  "kernelspec": {
   "display_name": "Julia 1.2.0",
   "language": "julia",
   "name": "julia-1.2"
  },
  "language_info": {
   "file_extension": ".jl",
   "mimetype": "application/julia",
   "name": "julia",
   "version": "1.2.0"
  }
 },
 "nbformat": 4,
 "nbformat_minor": 2
}
