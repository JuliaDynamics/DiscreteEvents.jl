{
 "cells": [
  {
   "cell_type": "markdown",
   "metadata": {},
   "source": [
    "# Performance\n",
    "\n",
    "This notebook measures performance of `Simulate.jl` functionality in order to \n",
    "\n",
    "1. improve it,\n",
    "2. get a ground for decisions about issue [\"Getting rid of all functionality involving gobal scope #15\"](https://github.com/pbayer/Simulate.jl/issues/15) and\n",
    "3. compile the [performance section](https://pbayer.github.io/Simulate.jl/dev/performance/) of the documentation."
   ]
  },
  {
   "cell_type": "code",
   "execution_count": 1,
   "metadata": {},
   "outputs": [],
   "source": [
    "using Simulate, BenchmarkTools, Random\n",
    "res = Dict(); # results dictionary"
   ]
  },
  {
   "cell_type": "markdown",
   "metadata": {},
   "source": [
    "## Event-based simulations"
   ]
  },
  {
   "cell_type": "markdown",
   "metadata": {},
   "source": [
    "The following is a modification of the [channel example](https://pbayer.github.io/Simulate.jl/dev/approach/#Event-based-modeling-1). We simulate events \n",
    "\n",
    "1. taking something from a common channel or waiting if there is nothing, \n",
    "2. then taking a delay, doing a calculation and\n",
    "3. returning three times to the first step.\n",
    "\n",
    "As calculation we take the following Machin-like sum:\n",
    "\n",
    "$$4 \\sum_{k=1}^{n} \\frac{(-1)^{k+1}}{2 k - 1}$$\n",
    "\n",
    "This gives a slow approximation to $\\pi$. "
   ]
  },
  {
   "cell_type": "markdown",
   "metadata": {},
   "source": [
    "### Function calls as events\n",
    "\n",
    "The first implementation is based on events with `SimFunction`s. "
   ]
  },
  {
   "cell_type": "code",
   "execution_count": 2,
   "metadata": {},
   "outputs": [
    {
     "data": {
      "text/plain": [
       "setup (generic function with 1 method)"
      ]
     },
     "execution_count": 2,
     "metadata": {},
     "output_type": "execute_result"
    }
   ],
   "source": [
    "function take(id::Int64, ch::Channel, step::Int64, qpi::Array{Float64,1})\n",
    "    if isready(ch)\n",
    "        take!(ch)                                            # take something from common channel\n",
    "        event!(SF(put, id, ch, step, qpi), after, rand())    # timed event after some time\n",
    "    else\n",
    "        event!(SF(take, id, ch, step, qpi), SF(isready, ch)) # conditional event until channel is ready\n",
    "    end\n",
    "end\n",
    "\n",
    "function put(id::Int64, ch::Channel, step::Int64, qpi::Array{Float64,1})\n",
    "    put!(ch, 1)\n",
    "    qpi[step] += (-1)^(id+1)/(2id -1)      # Machin-like series (slow approximation to pi)\n",
    "    step > 3 || take(id, ch, step+1, qpi)\n",
    "end\n",
    "\n",
    "function setup(n::Int)                     # a setup he simulation\n",
    "    reset!(𝐶)\n",
    "    Random.seed!(123)\n",
    "    global ch = Channel{Int64}(32)  # create a channel\n",
    "    global qpi = zeros(4)\n",
    "    si = shuffle(1:n)\n",
    "    for i in 1:n\n",
    "        take(si[i], ch, 1, qpi)\n",
    "    end\n",
    "    for i in 1:min(n, 32)\n",
    "        put!(ch, 1) # put first tokens into channel 1\n",
    "    end\n",
    "end"
   ]
  },
  {
   "cell_type": "markdown",
   "metadata": {},
   "source": [
    "If we setup 250 summation elements, we get 1000 timed events and over 1438 sample steps with conditional events."
   ]
  },
  {
   "cell_type": "code",
   "execution_count": 3,
   "metadata": {},
   "outputs": [
    {
     "name": "stdout",
     "output_type": "stream",
     "text": [
      "  0.962778 seconds (2.30 M allocations: 117.676 MiB, 3.38% gc time)\n",
      "  1.269727 seconds (4.13 M allocations: 198.800 MiB, 3.40% gc time)\n",
      "run! finished with 1000 clock events, 1438 sample steps, simulation time: 500.0\n",
      "result=3.137592669589475\n"
     ]
    }
   ],
   "source": [
    "@time setup(250)\n",
    "println(@time run!(𝐶, 500))\n",
    "println(\"result=\", sum(qpi))"
   ]
  },
  {
   "cell_type": "code",
   "execution_count": 4,
   "metadata": {},
   "outputs": [
    {
     "data": {
      "text/plain": [
       "BenchmarkTools.Trial: \n",
       "  memory estimate:  115.75 MiB\n",
       "  allocs estimate:  2481210\n",
       "  --------------\n",
       "  minimum time:     354.273 ms (2.16% GC)\n",
       "  median time:      369.565 ms (3.23% GC)\n",
       "  mean time:        369.519 ms (2.91% GC)\n",
       "  maximum time:     407.303 ms (3.72% GC)\n",
       "  --------------\n",
       "  samples:          27\n",
       "  evals/sample:     1"
      ]
     },
     "execution_count": 4,
     "metadata": {},
     "output_type": "execute_result"
    }
   ],
   "source": [
    "t = run(@benchmarkable run!(𝐶, 500) setup=setup(250) evals=1 seconds=10.0 samples=30)"
   ]
  },
  {
   "cell_type": "code",
   "execution_count": 5,
   "metadata": {},
   "outputs": [
    {
     "data": {
      "text/plain": [
       "354.273085"
      ]
     },
     "execution_count": 5,
     "metadata": {},
     "output_type": "execute_result"
    }
   ],
   "source": [
    "res[\"Event based with SimFunctions\"] = minimum(t).time * 1e-6 # ms "
   ]
  },
  {
   "cell_type": "markdown",
   "metadata": {},
   "source": [
    "### Expressions as events\n",
    "\n",
    "The 2nd implementation does the same but with expressions, which are `eval`uated in global scope during runtime:"
   ]
  },
  {
   "cell_type": "code",
   "execution_count": 6,
   "metadata": {},
   "outputs": [
    {
     "data": {
      "text/plain": [
       "put (generic function with 1 method)"
      ]
     },
     "execution_count": 6,
     "metadata": {},
     "output_type": "execute_result"
    }
   ],
   "source": [
    "function take(id::Int64, ch::Channel, step::Int64, qpi::Array{Float64,1})\n",
    "    if isready(ch)\n",
    "        take!(ch)                                            # take something from common channel\n",
    "        event!(:(put($id, ch, $step, qpi)), after, rand())   # timed event after some time\n",
    "    else\n",
    "        event!(:(take($id, ch, $step, qpi)), :(isready(ch))) # conditional event until channel is ready\n",
    "    end\n",
    "end\n",
    "\n",
    "function put(id::Int64, ch::Channel, step::Int64, qpi::Array{Float64,1})\n",
    "    put!(ch, 1)\n",
    "    qpi[step] += (-1)^(id+1)/(2id -1)      # Machin-like series (slow approximation to pi)\n",
    "    step > 3 || take(id, ch, step+1, qpi)\n",
    "end"
   ]
  },
  {
   "cell_type": "code",
   "execution_count": 7,
   "metadata": {},
   "outputs": [
    {
     "name": "stdout",
     "output_type": "stream",
     "text": [
      "  0.090309 seconds (158.23 k allocations: 8.476 MiB)\n",
      " 13.032384 seconds (7.92 M allocations: 487.178 MiB, 0.51% gc time)\n",
      "run! finished with 1000 clock events, 1438 sample steps, simulation time: 500.0\n",
      "result=3.137592669589475\n"
     ]
    }
   ],
   "source": [
    "@time setup(250)\n",
    "println(@time run!(𝐶, 500))\n",
    "println(\"result=\", sum(qpi))"
   ]
  },
  {
   "cell_type": "code",
   "execution_count": 8,
   "metadata": {},
   "outputs": [
    {
     "data": {
      "text/plain": [
       "BenchmarkTools.Trial: \n",
       "  memory estimate:  486.70 MiB\n",
       "  allocs estimate:  7905745\n",
       "  --------------\n",
       "  minimum time:     12.850 s (0.46% GC)\n",
       "  median time:      12.850 s (0.46% GC)\n",
       "  mean time:        12.850 s (0.46% GC)\n",
       "  maximum time:     12.850 s (0.46% GC)\n",
       "  --------------\n",
       "  samples:          1\n",
       "  evals/sample:     1"
      ]
     },
     "execution_count": 8,
     "metadata": {},
     "output_type": "execute_result"
    }
   ],
   "source": [
    "t = run(@benchmarkable run!(𝐶, 500) setup=setup(250) evals=1 seconds=10.0 samples=30)"
   ]
  },
  {
   "cell_type": "code",
   "execution_count": 9,
   "metadata": {},
   "outputs": [
    {
     "data": {
      "text/plain": [
       "Dict{Any,Any} with 2 entries:\n",
       "  \"Event based with Expressions\"  => 12850.1\n",
       "  \"Event based with SimFunctions\" => 354.273"
      ]
     },
     "execution_count": 9,
     "metadata": {},
     "output_type": "execute_result"
    }
   ],
   "source": [
    "res[\"Event based with Expressions\"] = minimum(t).time * 1e-6 #\n",
    "res"
   ]
  },
  {
   "cell_type": "code",
   "execution_count": 10,
   "metadata": {},
   "outputs": [
    {
     "data": {
      "text/plain": [
       "36.2716093095246"
      ]
     },
     "execution_count": 10,
     "metadata": {},
     "output_type": "execute_result"
    }
   ],
   "source": [
    "res[\"Event based with Expressions\"]/res[\"Event based with SimFunctions\"]"
   ]
  },
  {
   "cell_type": "markdown",
   "metadata": {},
   "source": [
    "This takes much longer and shows that `eval` for Julia expressions, done in global scope is very expensive and should be avoided if performance is any issue."
   ]
  },
  {
   "cell_type": "markdown",
   "metadata": {},
   "source": [
    "### Involving a global variable\n",
    "\n",
    "The third implementation works with `Simfunction`s like the first but involves a global variable `A`:"
   ]
  },
  {
   "cell_type": "code",
   "execution_count": 11,
   "metadata": {},
   "outputs": [
    {
     "data": {
      "text/plain": [
       "setup (generic function with 1 method)"
      ]
     },
     "execution_count": 11,
     "metadata": {},
     "output_type": "execute_result"
    }
   ],
   "source": [
    "function take(id::Int64, ch::Channel, step::Int64)\n",
    "    if isready(ch)\n",
    "        take!(ch)                                       # take something from common channel\n",
    "        event!(SF(put, id, ch, step), after, rand())    # timed event after some time\n",
    "    else\n",
    "        event!(SF(take, id, ch, step), SF(isready, ch)) # conditional event until channel is ready\n",
    "    end\n",
    "end\n",
    "\n",
    "function put(id::Int64, ch::Channel, step::Int64)\n",
    "    put!(ch, 1)\n",
    "    global A += (-1)^(id+1)/(2id -1)      # Machin-like series (slow approximation to pi)\n",
    "    step > 3 || take(id, ch, step+1)\n",
    "end\n",
    "\n",
    "function setup(n::Int)                     # a setup he simulation\n",
    "    reset!(𝐶)\n",
    "    Random.seed!(123)\n",
    "    global ch = Channel{Int64}(32)  # create a channel\n",
    "    global A = 0\n",
    "    si = shuffle(1:n)\n",
    "    for i in 1:n\n",
    "        take(si[i], ch, 1)\n",
    "    end\n",
    "    for i in 1:min(n, 32)\n",
    "        put!(ch, 1) # put first tokens into channel 1\n",
    "    end\n",
    "end"
   ]
  },
  {
   "cell_type": "code",
   "execution_count": 12,
   "metadata": {},
   "outputs": [
    {
     "name": "stdout",
     "output_type": "stream",
     "text": [
      "  0.066916 seconds (132.96 k allocations: 6.673 MiB, 12.95% gc time)\n",
      "  0.456441 seconds (2.63 M allocations: 123.395 MiB, 2.96% gc time)\n",
      "run! finished with 1000 clock events, 1438 sample steps, simulation time: 500.0\n",
      "result=3.1375926695894556\n"
     ]
    }
   ],
   "source": [
    "@time setup(250)\n",
    "println(@time run!(𝐶, 500))\n",
    "println(\"result=\", A)"
   ]
  },
  {
   "cell_type": "code",
   "execution_count": 13,
   "metadata": {},
   "outputs": [
    {
     "data": {
      "text/plain": [
       "BenchmarkTools.Trial: \n",
       "  memory estimate:  115.75 MiB\n",
       "  allocs estimate:  2483210\n",
       "  --------------\n",
       "  minimum time:     360.148 ms (2.38% GC)\n",
       "  median time:      371.667 ms (3.52% GC)\n",
       "  mean time:        375.799 ms (3.14% GC)\n",
       "  maximum time:     414.637 ms (2.18% GC)\n",
       "  --------------\n",
       "  samples:          26\n",
       "  evals/sample:     1"
      ]
     },
     "execution_count": 13,
     "metadata": {},
     "output_type": "execute_result"
    }
   ],
   "source": [
    "t = run(@benchmarkable run!(𝐶, 500) setup=setup(250) evals=1 seconds=10.0 samples=30)"
   ]
  },
  {
   "cell_type": "code",
   "execution_count": 14,
   "metadata": {},
   "outputs": [
    {
     "data": {
      "text/plain": [
       "Dict{Any,Any} with 3 entries:\n",
       "  \"Event based with Expressions\"                     => 12850.1\n",
       "  \"Event based with SimFunctions\"                    => 354.273\n",
       "  \"Event based with functions and a global variable\" => 360.148"
      ]
     },
     "execution_count": 14,
     "metadata": {},
     "output_type": "execute_result"
    }
   ],
   "source": [
    "res[\"Event based with functions and a global variable\"] = minimum(t).time * 1e-6 #\n",
    "res"
   ]
  },
  {
   "cell_type": "markdown",
   "metadata": {},
   "source": [
    "In this case the compiler does well to infer the type of `A` and it takes only marginally longer than the first version."
   ]
  },
  {
   "cell_type": "code",
   "execution_count": null,
   "metadata": {},
   "outputs": [],
   "source": []
  }
 ],
 "metadata": {
  "@webio": {
   "lastCommId": null,
   "lastKernelId": null
  },
  "kernelspec": {
   "display_name": "Julia 1.3.0",
   "language": "julia",
   "name": "julia-1.3"
  },
  "language_info": {
   "file_extension": ".jl",
   "mimetype": "application/julia",
   "name": "julia",
   "version": "1.3.0"
  }
 },
 "nbformat": 4,
 "nbformat_minor": 2
}
