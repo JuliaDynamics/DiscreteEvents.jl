{
 "cells": [
  {
   "cell_type": "markdown",
   "metadata": {},
   "source": [
    "# Performance\n",
    "\n",
    "This notebook measures performance of `Simulate.jl` functionality in order to \n",
    "\n",
    "1. improve it,\n",
    "2. get a ground for decisions about issue [\"Getting rid of all functionality involving gobal scope #15\"](https://github.com/pbayer/Simulate.jl/issues/15) and\n",
    "3. compile the [performance section](https://pbayer.github.io/Simulate.jl/dev/performance/) of the documentation."
   ]
  },
  {
   "cell_type": "code",
   "execution_count": 1,
   "metadata": {},
   "outputs": [],
   "source": [
    "using Simulate, BenchmarkTools, Random\n",
    "res = Dict(); # results dictionary"
   ]
  },
  {
   "cell_type": "markdown",
   "metadata": {},
   "source": [
    "## Event-based simulations"
   ]
  },
  {
   "cell_type": "markdown",
   "metadata": {},
   "source": [
    "The following is a modification of the [channel example](https://pbayer.github.io/Simulate.jl/dev/approach/#Event-based-modeling-1). We simulate events \n",
    "\n",
    "1. taking something from a common channel or waiting if there is nothing, \n",
    "2. then taking a delay, doing a calculation and\n",
    "3. returning three times to the first step.\n",
    "\n",
    "As calculation we take the following Machin-like sum:\n",
    "\n",
    "$$4 \\sum_{k=1}^{n} \\frac{(-1)^{k+1}}{2 k - 1}$$\n",
    "\n",
    "This gives a slow approximation to $\\pi$. "
   ]
  },
  {
   "cell_type": "markdown",
   "metadata": {},
   "source": [
    "### Function calls as events\n",
    "\n",
    "The first implementation is based on events with `SimFunction`s. "
   ]
  },
  {
   "cell_type": "code",
   "execution_count": 2,
   "metadata": {},
   "outputs": [
    {
     "data": {
      "text/plain": [
       "setup (generic function with 1 method)"
      ]
     },
     "execution_count": 2,
     "metadata": {},
     "output_type": "execute_result"
    }
   ],
   "source": [
    "function take(id::Int64, ch::Channel, step::Int64, qpi::Array{Float64,1})\n",
    "    if isready(ch)\n",
    "        take!(ch)                                            # take something from common channel\n",
    "        event!(SF(put, id, ch, step, qpi), after, rand())    # timed event after some time\n",
    "    else\n",
    "        event!(SF(take, id, ch, step, qpi), SF(isready, ch)) # conditional event until channel is ready\n",
    "    end\n",
    "end\n",
    "\n",
    "function put(id::Int64, ch::Channel, step::Int64, qpi::Array{Float64,1})\n",
    "    put!(ch, 1)\n",
    "    qpi[step] += (-1)^(id+1)/(2id -1)      # Machin-like series (slow approximation to pi)\n",
    "    step > 3 || take(id, ch, step+1, qpi)\n",
    "end\n",
    "\n",
    "function setup(n::Int)                     # a setup he simulation\n",
    "    reset!(𝐶)\n",
    "    Random.seed!(123)\n",
    "    global ch = Channel{Int64}(32)  # create a channel\n",
    "    global qpi = zeros(4)\n",
    "    si = shuffle(1:n)\n",
    "    for i in 1:n\n",
    "        take(si[i], ch, 1, qpi)\n",
    "    end\n",
    "    for i in 1:min(n, 32)\n",
    "        put!(ch, 1) # put first tokens into channel 1\n",
    "    end\n",
    "end"
   ]
  },
  {
   "cell_type": "markdown",
   "metadata": {},
   "source": [
    "If we setup 250 summation elements, we get 1000 timed events and over 1438 sample steps with conditional events."
   ]
  },
  {
   "cell_type": "code",
   "execution_count": 4,
   "metadata": {},
   "outputs": [
    {
     "name": "stdout",
     "output_type": "stream",
     "text": [
      "  0.009447 seconds (2.55 k allocations: 153.891 KiB)\n",
      "  0.397957 seconds (2.48 M allocations: 115.761 MiB, 6.75% gc time)\n",
      "run! finished with 1000 clock events, 1438 sample steps, simulation time: 500.0\n",
      "result=3.137592669589475\n"
     ]
    }
   ],
   "source": [
    "@time setup(250)\n",
    "println(@time run!(𝐶, 500))\n",
    "println(\"result=\", sum(qpi))"
   ]
  },
  {
   "cell_type": "code",
   "execution_count": 5,
   "metadata": {},
   "outputs": [
    {
     "data": {
      "text/plain": [
       "BenchmarkTools.Trial: \n",
       "  memory estimate:  115.75 MiB\n",
       "  allocs estimate:  2481210\n",
       "  --------------\n",
       "  minimum time:     351.639 ms (2.16% GC)\n",
       "  median time:      357.934 ms (3.11% GC)\n",
       "  mean time:        359.288 ms (2.85% GC)\n",
       "  maximum time:     374.970 ms (3.21% GC)\n",
       "  --------------\n",
       "  samples:          27\n",
       "  evals/sample:     1"
      ]
     },
     "execution_count": 5,
     "metadata": {},
     "output_type": "execute_result"
    }
   ],
   "source": [
    "t = run(@benchmarkable run!(𝐶, 500) setup=setup(250) evals=1 seconds=10.0 samples=30)"
   ]
  },
  {
   "cell_type": "code",
   "execution_count": 6,
   "metadata": {},
   "outputs": [
    {
     "data": {
      "text/plain": [
       "351.639478"
      ]
     },
     "execution_count": 6,
     "metadata": {},
     "output_type": "execute_result"
    }
   ],
   "source": [
    "res[\"Event based with SimFunctions\"] = minimum(t).time * 1e-6 # ms "
   ]
  },
  {
   "cell_type": "markdown",
   "metadata": {},
   "source": [
    "### Expressions as events\n",
    "\n",
    "The 2nd implementation does the same but with expressions, which are `eval`uated in global scope during runtime:"
   ]
  },
  {
   "cell_type": "code",
   "execution_count": 7,
   "metadata": {},
   "outputs": [
    {
     "data": {
      "text/plain": [
       "put (generic function with 1 method)"
      ]
     },
     "execution_count": 7,
     "metadata": {},
     "output_type": "execute_result"
    }
   ],
   "source": [
    "function take(id::Int64, ch::Channel, step::Int64, qpi::Array{Float64,1})\n",
    "    if isready(ch)\n",
    "        take!(ch)                                            # take something from common channel\n",
    "        event!(:(put($id, ch, $step, qpi)), after, rand())   # timed event after some time\n",
    "    else\n",
    "        event!(:(take($id, ch, $step, qpi)), :(isready(ch))) # conditional event until channel is ready\n",
    "    end\n",
    "end\n",
    "\n",
    "function put(id::Int64, ch::Channel, step::Int64, qpi::Array{Float64,1})\n",
    "    put!(ch, 1)\n",
    "    qpi[step] += (-1)^(id+1)/(2id -1)      # Machin-like series (slow approximation to pi)\n",
    "    step > 3 || take(id, ch, step+1, qpi)\n",
    "end"
   ]
  },
  {
   "cell_type": "code",
   "execution_count": 8,
   "metadata": {},
   "outputs": [
    {
     "name": "stdout",
     "output_type": "stream",
     "text": [
      "  0.087837 seconds (158.23 k allocations: 8.476 MiB)\n",
      " 12.844018 seconds (7.92 M allocations: 487.178 MiB, 0.50% gc time)\n",
      "run! finished with 1000 clock events, 1438 sample steps, simulation time: 500.0\n",
      "result=3.137592669589475\n"
     ]
    }
   ],
   "source": [
    "@time setup(250)\n",
    "println(@time run!(𝐶, 500))\n",
    "println(\"result=\", sum(qpi))"
   ]
  },
  {
   "cell_type": "code",
   "execution_count": 9,
   "metadata": {},
   "outputs": [
    {
     "data": {
      "text/plain": [
       "BenchmarkTools.Trial: \n",
       "  memory estimate:  486.70 MiB\n",
       "  allocs estimate:  7905745\n",
       "  --------------\n",
       "  minimum time:     12.834 s (0.44% GC)\n",
       "  median time:      12.834 s (0.44% GC)\n",
       "  mean time:        12.834 s (0.44% GC)\n",
       "  maximum time:     12.834 s (0.44% GC)\n",
       "  --------------\n",
       "  samples:          1\n",
       "  evals/sample:     1"
      ]
     },
     "execution_count": 9,
     "metadata": {},
     "output_type": "execute_result"
    }
   ],
   "source": [
    "t = run(@benchmarkable run!(𝐶, 500) setup=setup(250) evals=1 seconds=10.0 samples=30)"
   ]
  },
  {
   "cell_type": "code",
   "execution_count": 10,
   "metadata": {},
   "outputs": [
    {
     "data": {
      "text/plain": [
       "Dict{Any,Any} with 2 entries:\n",
       "  \"Event based with Expressions\"  => 12833.6\n",
       "  \"Event based with SimFunctions\" => 351.639"
      ]
     },
     "execution_count": 10,
     "metadata": {},
     "output_type": "execute_result"
    }
   ],
   "source": [
    "res[\"Event based with Expressions\"] = minimum(t).time * 1e-6 #\n",
    "res"
   ]
  },
  {
   "cell_type": "code",
   "execution_count": 11,
   "metadata": {},
   "outputs": [
    {
     "data": {
      "text/plain": [
       "36.49634252386189"
      ]
     },
     "execution_count": 11,
     "metadata": {},
     "output_type": "execute_result"
    }
   ],
   "source": [
    "res[\"Event based with Expressions\"]/res[\"Event based with SimFunctions\"]"
   ]
  },
  {
   "cell_type": "markdown",
   "metadata": {},
   "source": [
    "This takes much longer and shows that `eval` for Julia expressions, done in global scope is very expensive and should be avoided if performance is any issue."
   ]
  },
  {
   "cell_type": "markdown",
   "metadata": {},
   "source": [
    "### Involving a global variable\n",
    "\n",
    "The third implementation works with `Simfunction`s like the first but involves a global variable `A`:"
   ]
  },
  {
   "cell_type": "code",
   "execution_count": 12,
   "metadata": {},
   "outputs": [
    {
     "data": {
      "text/plain": [
       "setup (generic function with 1 method)"
      ]
     },
     "execution_count": 12,
     "metadata": {},
     "output_type": "execute_result"
    }
   ],
   "source": [
    "function take(id::Int64, ch::Channel, step::Int64)::Float64\n",
    "    if isready(ch)\n",
    "        take!(ch)                                       # take something from common channel\n",
    "        event!(SF(put, id, ch, step), after, rand())    # timed event after some time\n",
    "    else\n",
    "        event!(SF(take, id, ch, step), SF(isready, ch)) # conditional event until channel is ready\n",
    "    end\n",
    "end\n",
    "\n",
    "function put(id::Int64, ch::Channel, step::Int64)\n",
    "    put!(ch, 1)\n",
    "    global A += (-1)^(id+1)/(2id -1)      # Machin-like series (slow approximation to pi)\n",
    "    step > 3 || take(id, ch, step+1)\n",
    "end\n",
    "\n",
    "function setup(n::Int)                     # a setup he simulation\n",
    "    reset!(𝐶)\n",
    "    Random.seed!(123)\n",
    "    global ch = Channel{Int64}(32)  # create a channel\n",
    "    global A = 0\n",
    "    si = shuffle(1:n)\n",
    "    for i in 1:n\n",
    "        take(si[i], ch, 1)\n",
    "    end\n",
    "    for i in 1:min(n, 32)\n",
    "        put!(ch, 1) # put first tokens into channel 1\n",
    "    end\n",
    "end"
   ]
  },
  {
   "cell_type": "code",
   "execution_count": 13,
   "metadata": {},
   "outputs": [
    {
     "name": "stdout",
     "output_type": "stream",
     "text": [
      "Variables\n",
      "  #self#\u001b[36m::Core.Compiler.Const(put, false)\u001b[39m\n",
      "  id\u001b[36m::Int64\u001b[39m\n",
      "  ch\u001b[36m::Channel{Int64}\u001b[39m\n",
      "  step\u001b[36m::Int64\u001b[39m\n",
      "\n",
      "Body\u001b[91m\u001b[1m::Union{Bool, Float64}\u001b[22m\u001b[39m\n",
      "\u001b[90m1 ─\u001b[39m       Main.put!(ch, 1)\n",
      "\u001b[90m│  \u001b[39m       nothing\n",
      "\u001b[90m│  \u001b[39m %3  = (id + 1)\u001b[36m::Int64\u001b[39m\n",
      "\u001b[90m│  \u001b[39m %4  = ((-1) ^ %3)\u001b[36m::Int64\u001b[39m\n",
      "\u001b[90m│  \u001b[39m %5  = (2 * id)\u001b[36m::Int64\u001b[39m\n",
      "\u001b[90m│  \u001b[39m %6  = (%5 - 1)\u001b[36m::Int64\u001b[39m\n",
      "\u001b[90m│  \u001b[39m %7  = (%4 / %6)\u001b[36m::Float64\u001b[39m\n",
      "\u001b[90m│  \u001b[39m %8  = (Main.A + %7)\u001b[91m\u001b[1m::Any\u001b[22m\u001b[39m\n",
      "\u001b[90m│  \u001b[39m       (Main.A = %8)\n",
      "\u001b[90m│  \u001b[39m %10 = (step > 3)\u001b[36m::Bool\u001b[39m\n",
      "\u001b[90m└──\u001b[39m       goto #3 if not %10\n",
      "\u001b[90m2 ─\u001b[39m       return %10\n",
      "\u001b[90m3 ─\u001b[39m %13 = (step + 1)\u001b[36m::Int64\u001b[39m\n",
      "\u001b[90m│  \u001b[39m %14 = Main.take(id, ch, %13)\u001b[36m::Float64\u001b[39m\n",
      "\u001b[90m└──\u001b[39m       return %14\n"
     ]
    }
   ],
   "source": [
    "ch = Channel{Int64}(32)\n",
    "@code_warntype put(1, ch, 1)"
   ]
  },
  {
   "cell_type": "code",
   "execution_count": 15,
   "metadata": {},
   "outputs": [
    {
     "name": "stdout",
     "output_type": "stream",
     "text": [
      "  0.007132 seconds (3.05 k allocations: 157.688 KiB)\n",
      "  0.366033 seconds (2.48 M allocations: 115.757 MiB, 3.80% gc time)\n",
      "run! finished with 1000 clock events, 1438 sample steps, simulation time: 500.0\n",
      "result=3.1375926695894556\n"
     ]
    }
   ],
   "source": [
    "@time setup(250)\n",
    "println(@time run!(𝐶, 500))\n",
    "println(\"result=\", A)"
   ]
  },
  {
   "cell_type": "code",
   "execution_count": 16,
   "metadata": {},
   "outputs": [
    {
     "data": {
      "text/plain": [
       "BenchmarkTools.Trial: \n",
       "  memory estimate:  115.75 MiB\n",
       "  allocs estimate:  2483207\n",
       "  --------------\n",
       "  minimum time:     357.921 ms (2.33% GC)\n",
       "  median time:      364.239 ms (3.53% GC)\n",
       "  mean time:        365.695 ms (3.14% GC)\n",
       "  maximum time:     382.753 ms (2.26% GC)\n",
       "  --------------\n",
       "  samples:          27\n",
       "  evals/sample:     1"
      ]
     },
     "execution_count": 16,
     "metadata": {},
     "output_type": "execute_result"
    }
   ],
   "source": [
    "t = run(@benchmarkable run!(𝐶, 500) setup=setup(250) evals=1 seconds=10.0 samples=30)"
   ]
  },
  {
   "cell_type": "code",
   "execution_count": 17,
   "metadata": {},
   "outputs": [
    {
     "data": {
      "text/plain": [
       "Dict{Any,Any} with 3 entries:\n",
       "  \"Event based with Expressions\"                     => 12833.6\n",
       "  \"Event based with SimFunctions\"                    => 351.639\n",
       "  \"Event based with functions and a global variable\" => 357.921"
      ]
     },
     "execution_count": 17,
     "metadata": {},
     "output_type": "execute_result"
    }
   ],
   "source": [
    "res[\"Event based with functions and a global variable\"] = minimum(t).time * 1e-6 #\n",
    "res"
   ]
  },
  {
   "cell_type": "markdown",
   "metadata": {},
   "source": [
    "In this case the compiler does well to infer the type of `A` and it takes only marginally longer than the first version."
   ]
  },
  {
   "cell_type": "code",
   "execution_count": null,
   "metadata": {},
   "outputs": [],
   "source": []
  }
 ],
 "metadata": {
  "@webio": {
   "lastCommId": null,
   "lastKernelId": null
  },
  "kernelspec": {
   "display_name": "Julia 1.3.0",
   "language": "julia",
   "name": "julia-1.3"
  },
  "language_info": {
   "file_extension": ".jl",
   "mimetype": "application/julia",
   "name": "julia",
   "version": "1.3.0"
  }
 },
 "nbformat": 4,
 "nbformat_minor": 2
}
