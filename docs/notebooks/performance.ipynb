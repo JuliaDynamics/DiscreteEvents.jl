{
 "cells": [
  {
   "cell_type": "markdown",
   "metadata": {},
   "source": [
    "# Performance\n",
    "\n",
    "This notebook measures performance of `Simulate.jl` functionality in order to \n",
    "\n",
    "1. improve it,\n",
    "2. get a ground for decisions about issue [\"Getting rid of all functionality involving gobal scope #15\"](https://github.com/pbayer/Simulate.jl/issues/15) and\n",
    "3. compile the [performance section](https://pbayer.github.io/Simulate.jl/dev/performance/) of the documentation."
   ]
  },
  {
   "cell_type": "code",
   "execution_count": 1,
   "metadata": {},
   "outputs": [],
   "source": [
    "using Simulate, BenchmarkTools, Random\n",
    "res = Dict(); # results dictionary"
   ]
  },
  {
   "cell_type": "markdown",
   "metadata": {},
   "source": [
    "## Event-based simulations"
   ]
  },
  {
   "cell_type": "markdown",
   "metadata": {},
   "source": [
    "The following is a modification of the [channel example](https://pbayer.github.io/Simulate.jl/dev/approach/#Event-based-modeling-1). We simulate events \n",
    "\n",
    "1. taking something from a common channel or waiting if there is nothing, \n",
    "2. then taking a delay, doing a calculation and\n",
    "3. returning three times to the first step.\n",
    "\n",
    "As calculation we take the following Machin-like sum:\n",
    "\n",
    "$$4 \\sum_{k=1}^{n} \\frac{(-1)^{k+1}}{2 k - 1}$$\n",
    "\n",
    "This gives a slow approximation to $\\pi$. "
   ]
  },
  {
   "cell_type": "markdown",
   "metadata": {},
   "source": [
    "### Function calls as events\n",
    "\n",
    "The first implementation is based on events with `SimFunction`s. "
   ]
  },
  {
   "cell_type": "code",
   "execution_count": 19,
   "metadata": {},
   "outputs": [
    {
     "data": {
      "text/plain": [
       "setup (generic function with 1 method)"
      ]
     },
     "execution_count": 19,
     "metadata": {},
     "output_type": "execute_result"
    }
   ],
   "source": [
    "function take(id::Int64, ch::Channel, step::Int64, qpi::Array{Float64,1})\n",
    "    if isready(ch)\n",
    "        take!(ch)                                            # take something from common channel\n",
    "        event!(SF(put, id, ch, step, qpi), after, rand())    # timed event after some time\n",
    "    else\n",
    "        event!(SF(take, id, ch, step, qpi), SF(isready, ch)) # conditional event until channel is ready\n",
    "    end\n",
    "end\n",
    "\n",
    "function put(id::Int64, ch::Channel, step::Int64, qpi::Array{Float64,1})\n",
    "    put!(ch, 1)\n",
    "    qpi[1] += (-1)^(id+1)/(2id -1)      # Machin-like series (slow approximation to pi)\n",
    "    step > 3 || take(id, ch, step+1, qpi)\n",
    "end\n",
    "\n",
    "function setup(n::Int)                     # a setup he simulation\n",
    "    reset!(𝐶)\n",
    "    Random.seed!(123)\n",
    "    global ch = Channel{Int64}(32)  # create a channel\n",
    "    global qpi = [0.0]\n",
    "    si = shuffle(1:n)\n",
    "    for i in 1:n\n",
    "        take(si[i], ch, 1, qpi)\n",
    "    end\n",
    "    for i in 1:min(n, 32)\n",
    "        put!(ch, 1) # put first tokens into channel 1\n",
    "    end\n",
    "end"
   ]
  },
  {
   "cell_type": "markdown",
   "metadata": {},
   "source": [
    "If we setup 250 summation elements, we get 1000 timed events and over 1438 sample steps with conditional events."
   ]
  },
  {
   "cell_type": "code",
   "execution_count": 21,
   "metadata": {},
   "outputs": [
    {
     "name": "stdout",
     "output_type": "stream",
     "text": [
      "  0.000307 seconds (2.55 k allocations: 153.875 KiB)\n",
      "  0.245739 seconds (1.76 M allocations: 66.280 MiB, 4.15% gc time)\n",
      "run! finished with 1000 clock events, 1438 sample steps, simulation time: 500.0\n",
      "result=3.1375926695894556\n"
     ]
    }
   ],
   "source": [
    "@time setup(250)\n",
    "println(@time run!(𝐶, 500))\n",
    "println(\"result=\", qpi[1])"
   ]
  },
  {
   "cell_type": "code",
   "execution_count": 22,
   "metadata": {
    "scrolled": true
   },
   "outputs": [
    {
     "data": {
      "text/plain": [
       "BenchmarkTools.Trial: \n",
       "  memory estimate:  66.27 MiB\n",
       "  allocs estimate:  1759426\n",
       "  --------------\n",
       "  minimum time:     239.034 ms (1.93% GC)\n",
       "  median time:      246.378 ms (2.75% GC)\n",
       "  mean time:        246.969 ms (2.76% GC)\n",
       "  maximum time:     257.820 ms (3.76% GC)\n",
       "  --------------\n",
       "  samples:          50\n",
       "  evals/sample:     1"
      ]
     },
     "execution_count": 22,
     "metadata": {},
     "output_type": "execute_result"
    }
   ],
   "source": [
    "t = run(@benchmarkable run!(𝐶, 500) setup=setup(250) evals=1 seconds=15.0 samples=50)"
   ]
  },
  {
   "cell_type": "code",
   "execution_count": 23,
   "metadata": {},
   "outputs": [
    {
     "data": {
      "text/plain": [
       "239.03403899999998"
      ]
     },
     "execution_count": 23,
     "metadata": {},
     "output_type": "execute_result"
    }
   ],
   "source": [
    "res[\"Event based with SimFunctions\"] = minimum(t).time * 1e-6 # ms "
   ]
  },
  {
   "cell_type": "markdown",
   "metadata": {},
   "source": [
    "### Expressions as events\n",
    "\n",
    "The 2nd implementation does the same but with expressions, which are `eval`uated in global scope during runtime:"
   ]
  },
  {
   "cell_type": "code",
   "execution_count": 25,
   "metadata": {},
   "outputs": [
    {
     "data": {
      "text/plain": [
       "put (generic function with 2 methods)"
      ]
     },
     "execution_count": 25,
     "metadata": {},
     "output_type": "execute_result"
    }
   ],
   "source": [
    "function take(id::Int64, ch::Channel, step::Int64, qpi::Array{Float64,1})\n",
    "    if isready(ch)\n",
    "        take!(ch)                                            # take something from common channel\n",
    "        event!(:(put($id, ch, $step, qpi)), after, rand())   # timed event after some time\n",
    "    else\n",
    "        event!(:(take($id, ch, $step, qpi)), :(isready(ch))) # conditional event until channel is ready\n",
    "    end\n",
    "end\n",
    "\n",
    "function put(id::Int64, ch::Channel, step::Int64, qpi::Array{Float64,1})\n",
    "    put!(ch, 1)\n",
    "    qpi[1] += (-1)^(id+1)/(2id -1)      # Machin-like series (slow approximation to pi)\n",
    "    step > 3 || take(id, ch, step+1, qpi)\n",
    "end"
   ]
  },
  {
   "cell_type": "code",
   "execution_count": 26,
   "metadata": {},
   "outputs": [
    {
     "name": "stdout",
     "output_type": "stream",
     "text": [
      "  0.010905 seconds (9.30 k allocations: 488.080 KiB)\n",
      " 10.604409 seconds (6.52 M allocations: 395.798 MiB, 0.44% gc time)\n",
      "run! finished with 1000 clock events, 1438 sample steps, simulation time: 500.0\n",
      "result=3.1375926695894556\n"
     ]
    }
   ],
   "source": [
    "@time setup(250)\n",
    "println(@time run!(𝐶, 500))\n",
    "println(\"result=\", sum(qpi))"
   ]
  },
  {
   "cell_type": "code",
   "execution_count": 28,
   "metadata": {},
   "outputs": [
    {
     "data": {
      "text/plain": [
       "BenchmarkTools.Trial: \n",
       "  memory estimate:  395.33 MiB\n",
       "  allocs estimate:  6513416\n",
       "  --------------\n",
       "  minimum time:     10.564 s (0.45% GC)\n",
       "  median time:      10.575 s (0.44% GC)\n",
       "  mean time:        10.575 s (0.44% GC)\n",
       "  maximum time:     10.586 s (0.44% GC)\n",
       "  --------------\n",
       "  samples:          2\n",
       "  evals/sample:     1"
      ]
     },
     "execution_count": 28,
     "metadata": {},
     "output_type": "execute_result"
    }
   ],
   "source": [
    "t = run(@benchmarkable run!(𝐶, 500) setup=setup(250) evals=1 seconds=15.0 samples=50)"
   ]
  },
  {
   "cell_type": "code",
   "execution_count": 29,
   "metadata": {},
   "outputs": [
    {
     "data": {
      "text/plain": [
       "Dict{Any,Any} with 3 entries:\n",
       "  \"Event based with Expressions\"                     => 10564.4\n",
       "  \"Event based with SimFunctions\"                    => 239.034\n",
       "  \"Event based with functions and a global variable\" => 242.797"
      ]
     },
     "execution_count": 29,
     "metadata": {},
     "output_type": "execute_result"
    }
   ],
   "source": [
    "res[\"Event based with Expressions\"] = minimum(t).time * 1e-6 #\n",
    "res"
   ]
  },
  {
   "cell_type": "code",
   "execution_count": 30,
   "metadata": {},
   "outputs": [
    {
     "data": {
      "text/plain": [
       "44.19624482854511"
      ]
     },
     "execution_count": 30,
     "metadata": {},
     "output_type": "execute_result"
    }
   ],
   "source": [
    "res[\"Event based with Expressions\"]/res[\"Event based with SimFunctions\"]"
   ]
  },
  {
   "cell_type": "markdown",
   "metadata": {},
   "source": [
    "This takes much longer and shows that `eval` for Julia expressions, done in global scope is very expensive and should be avoided if performance is any issue."
   ]
  },
  {
   "cell_type": "markdown",
   "metadata": {},
   "source": [
    "### Involving a global variable\n",
    "\n",
    "The third implementation works with `Simfunction`s like the first but involves a global variable `A`:"
   ]
  },
  {
   "cell_type": "code",
   "execution_count": 31,
   "metadata": {},
   "outputs": [
    {
     "data": {
      "text/plain": [
       "setup (generic function with 1 method)"
      ]
     },
     "execution_count": 31,
     "metadata": {},
     "output_type": "execute_result"
    }
   ],
   "source": [
    "function take(id::Int64, ch::Channel, step::Int64)::Float64\n",
    "    if isready(ch)\n",
    "        take!(ch)                                       # take something from common channel\n",
    "        event!(SF(put, id, ch, step), after, rand())    # timed event after some time\n",
    "    else\n",
    "        event!(SF(take, id, ch, step), SF(isready, ch)) # conditional event until channel is ready\n",
    "    end\n",
    "end\n",
    "\n",
    "function put(id::Int64, ch::Channel, step::Int64)\n",
    "    put!(ch, 1)\n",
    "    global A += (-1)^(id+1)/(2id -1)      # Machin-like series (slow approximation to pi)\n",
    "    step > 3 || take(id, ch, step+1)\n",
    "end\n",
    "\n",
    "function setup(n::Int)                     # a setup he simulation\n",
    "    reset!(𝐶)\n",
    "    Random.seed!(123)\n",
    "    global ch = Channel{Int64}(32)  # create a channel\n",
    "    global A = 0\n",
    "    si = shuffle(1:n)\n",
    "    for i in 1:n\n",
    "        take(si[i], ch, 1)\n",
    "    end\n",
    "    for i in 1:min(n, 32)\n",
    "        put!(ch, 1) # put first tokens into channel 1\n",
    "    end\n",
    "end"
   ]
  },
  {
   "cell_type": "code",
   "execution_count": 32,
   "metadata": {},
   "outputs": [
    {
     "name": "stdout",
     "output_type": "stream",
     "text": [
      "Variables\n",
      "  #self#\u001b[36m::Core.Compiler.Const(put, false)\u001b[39m\n",
      "  id\u001b[36m::Int64\u001b[39m\n",
      "  ch\u001b[36m::Channel{Int64}\u001b[39m\n",
      "  step\u001b[36m::Int64\u001b[39m\n",
      "\n",
      "Body\u001b[91m\u001b[1m::Union{Bool, Float64}\u001b[22m\u001b[39m\n",
      "\u001b[90m1 ─\u001b[39m       Main.put!(ch, 1)\n",
      "\u001b[90m│  \u001b[39m       nothing\n",
      "\u001b[90m│  \u001b[39m %3  = (id + 1)\u001b[36m::Int64\u001b[39m\n",
      "\u001b[90m│  \u001b[39m %4  = ((-1) ^ %3)\u001b[36m::Int64\u001b[39m\n",
      "\u001b[90m│  \u001b[39m %5  = (2 * id)\u001b[36m::Int64\u001b[39m\n",
      "\u001b[90m│  \u001b[39m %6  = (%5 - 1)\u001b[36m::Int64\u001b[39m\n",
      "\u001b[90m│  \u001b[39m %7  = (%4 / %6)\u001b[36m::Float64\u001b[39m\n",
      "\u001b[90m│  \u001b[39m %8  = (Main.A + %7)\u001b[91m\u001b[1m::Any\u001b[22m\u001b[39m\n",
      "\u001b[90m│  \u001b[39m       (Main.A = %8)\n",
      "\u001b[90m│  \u001b[39m %10 = (step > 3)\u001b[36m::Bool\u001b[39m\n",
      "\u001b[90m└──\u001b[39m       goto #3 if not %10\n",
      "\u001b[90m2 ─\u001b[39m       return %10\n",
      "\u001b[90m3 ─\u001b[39m %13 = (step + 1)\u001b[36m::Int64\u001b[39m\n",
      "\u001b[90m│  \u001b[39m %14 = Main.take(id, ch, %13)\u001b[36m::Float64\u001b[39m\n",
      "\u001b[90m└──\u001b[39m       return %14\n"
     ]
    }
   ],
   "source": [
    "ch = Channel{Int64}(32)\n",
    "@code_warntype put(1, ch, 1)"
   ]
  },
  {
   "cell_type": "code",
   "execution_count": 16,
   "metadata": {},
   "outputs": [
    {
     "name": "stdout",
     "output_type": "stream",
     "text": [
      "  0.000293 seconds (3.05 k allocations: 157.688 KiB)\n",
      "  0.260669 seconds (1.76 M allocations: 66.276 MiB, 3.84% gc time)\n",
      "run! finished with 1000 clock events, 1438 sample steps, simulation time: 500.0\n",
      "result=3.1375926695894556\n"
     ]
    }
   ],
   "source": [
    "@time setup(250)\n",
    "println(@time run!(𝐶, 500))\n",
    "println(\"result=\", A)"
   ]
  },
  {
   "cell_type": "code",
   "execution_count": 33,
   "metadata": {},
   "outputs": [
    {
     "data": {
      "text/plain": [
       "BenchmarkTools.Trial: \n",
       "  memory estimate:  66.27 MiB\n",
       "  allocs estimate:  1761423\n",
       "  --------------\n",
       "  minimum time:     242.179 ms (1.82% GC)\n",
       "  median time:      250.068 ms (2.71% GC)\n",
       "  mean time:        250.228 ms (2.74% GC)\n",
       "  maximum time:     259.498 ms (3.70% GC)\n",
       "  --------------\n",
       "  samples:          30\n",
       "  evals/sample:     1"
      ]
     },
     "execution_count": 33,
     "metadata": {},
     "output_type": "execute_result"
    }
   ],
   "source": [
    "t = run(@benchmarkable run!(𝐶, 500) setup=setup(250) evals=1 seconds=10.0 samples=30)"
   ]
  },
  {
   "cell_type": "code",
   "execution_count": 34,
   "metadata": {},
   "outputs": [
    {
     "data": {
      "text/plain": [
       "Dict{Any,Any} with 3 entries:\n",
       "  \"Event based with Expressions\"                     => 10564.4\n",
       "  \"Event based with SimFunctions\"                    => 239.034\n",
       "  \"Event based with functions and a global variable\" => 242.179"
      ]
     },
     "execution_count": 34,
     "metadata": {},
     "output_type": "execute_result"
    }
   ],
   "source": [
    "res[\"Event based with functions and a global variable\"] = minimum(t).time * 1e-6 #\n",
    "res"
   ]
  },
  {
   "cell_type": "markdown",
   "metadata": {},
   "source": [
    "In this case the compiler does well to infer the type of `A` and it takes only marginally longer than the first version."
   ]
  },
  {
   "cell_type": "code",
   "execution_count": null,
   "metadata": {},
   "outputs": [],
   "source": []
  }
 ],
 "metadata": {
  "@webio": {
   "lastCommId": null,
   "lastKernelId": null
  },
  "kernelspec": {
   "display_name": "Julia 1.3.0",
   "language": "julia",
   "name": "julia-1.3"
  },
  "language_info": {
   "file_extension": ".jl",
   "mimetype": "application/julia",
   "name": "julia",
   "version": "1.3.0"
  }
 },
 "nbformat": 4,
 "nbformat_minor": 2
}
